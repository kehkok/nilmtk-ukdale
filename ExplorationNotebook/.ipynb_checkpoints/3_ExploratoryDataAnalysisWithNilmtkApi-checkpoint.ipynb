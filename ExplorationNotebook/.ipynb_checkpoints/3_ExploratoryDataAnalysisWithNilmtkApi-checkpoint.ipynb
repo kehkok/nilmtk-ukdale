{
 "cells": [
  {
   "cell_type": "markdown",
   "id": "35c881fa",
   "metadata": {
    "heading_collapsed": true
   },
   "source": [
    "# Exploratory Data Analysis (EDA) with NILMTK API\n",
    "\n",
    "EDA is used by data scientists to analyze and investigate this UK-DALE dataset.  It summarize their main characteristics, often employing data visualization methods. It helps determine how best to manipulate data sources to get the answers you need, making it easier for data scientists to discover patterns, spot anomalies, test a hypothesis, or check assumptions.  This is to explore more API functions from NILMTK.\n",
    "\n",
    "- Created Date : 16/4/2022\n",
    "- Updated Date : 18/4/2022\n",
    "- Author : KK Yong\n",
    "\n",
    "**References:**\n",
    "- [NILMTK API documentation](http://nilmtk.github.io/nilmtk/master/index.html)\n",
    "- N. Batra et al., “[A demonstration of reproducible state-of-the-art energy disaggregation using NILMTK](https://nipunbatra.github.io/papers/2019/batra_buildsys19demo.pdf)” in Proceedings of the 6th ACM International Conference on Systems for Energy-Efficient Buildings, Cities, and Transportation, Nov. 2019, pp. 358–359, doi: 10.1145/3360322.3360999.\n",
    "- J. Kelly et al., “[NILMTK v0.2: a non-intrusive load monitoring toolkit for large scale data sets](https://arxiv.org/pdf/1409.5908.pdf)” in Proceedings of the 1st ACM Conference on Embedded Systems for Energy-Efficient Buildings, Nov. 2014, pp. 182–183, doi: 10.1145/2674061.2675024.\n"
   ]
  },
  {
   "cell_type": "code",
   "execution_count": null,
   "id": "2e334794",
   "metadata": {
    "hidden": true
   },
   "outputs": [],
   "source": [
    "import warnings\n",
    "import dateutil\n",
    "\n",
    "import matplotlib.pyplot as plt\n",
    "import pandas as pd\n",
    "\n",
    "import nilmtk as ntk"
   ]
  },
  {
   "cell_type": "markdown",
   "id": "a587e9bd",
   "metadata": {},
   "source": [
    "# Initialization for Python and NILMTK\n",
    "\n",
    "Let's kick-off to process and analysis the data with Python."
   ]
  },
  {
   "cell_type": "code",
   "execution_count": null,
   "id": "15b9a900",
   "metadata": {},
   "outputs": [],
   "source": [
    "import dateutil\n",
    "import warnings\n",
    "\n",
    "import matplotlib.pyplot as plt\n",
    "import numpy as np\n",
    "import pandas as pd\n",
    "\n",
    "from datetime import datetime\n",
    "\n",
    "import nilmtk as ntk\n",
    "import util as ut"
   ]
  },
  {
   "cell_type": "markdown",
   "id": "44a2f991",
   "metadata": {},
   "source": [
    "## Define constant and global variable"
   ]
  },
  {
   "cell_type": "code",
   "execution_count": null,
   "id": "7160c54c",
   "metadata": {},
   "outputs": [],
   "source": [
    "plt.rcParams['figure.figsize'] = [15, 10]\n",
    "RAW_FILENAME = \"../Dataset/ukdale.h5\"\n",
    "\n",
    "START_TS ='2013-08-01 00:00:00'\n",
    "END_TS='2013-08-31 23:59:59'"
   ]
  },
  {
   "cell_type": "markdown",
   "id": "72c6bbb2",
   "metadata": {},
   "source": [
    "## Initial NILMTK with loading data for House/Building 1"
   ]
  },
  {
   "cell_type": "code",
   "execution_count": null,
   "id": "6aaba24e",
   "metadata": {},
   "outputs": [],
   "source": [
    "# Create object for ukdale\n",
    "ukdale = ntk.DataSet(RAW_FILENAME)\n",
    "\n",
    "# Set the duration of data to be extract\n",
    "ukdale.set_window(start=START_TS,end=END_TS)\n",
    "\n",
    "# Create object for house data\n",
    "house_data = ukdale.buildings[1].elec"
   ]
  },
  {
   "cell_type": "code",
   "execution_count": null,
   "id": "8224d8b3",
   "metadata": {},
   "outputs": [],
   "source": [
    "house_data.mains()"
   ]
  },
  {
   "cell_type": "code",
   "execution_count": null,
   "id": "d8f19172",
   "metadata": {},
   "outputs": [],
   "source": [
    "house_data.mains().power_series_all_data().plot.line()"
   ]
  },
  {
   "cell_type": "markdown",
   "id": "9713953b",
   "metadata": {},
   "source": [
    "# Using NILMTK APIs to perform statistical analysis\n",
    "\n",
    "This is to see the proportion of energy main and submeter in house/building 1"
   ]
  },
  {
   "cell_type": "code",
   "execution_count": null,
   "id": "cb536c37",
   "metadata": {},
   "outputs": [],
   "source": [
    "house_data.proportion_of_energy_submetered()"
   ]
  },
  {
   "cell_type": "markdown",
   "id": "cf1ddf97",
   "metadata": {},
   "source": [
    "### Get information for the Type of Poware -  Active, apparent and reactive power for 'house_data' object"
   ]
  },
  {
   "cell_type": "code",
   "execution_count": null,
   "id": "4dd05f12",
   "metadata": {},
   "outputs": [],
   "source": [
    "house_data.available_ac_types('power')"
   ]
  },
  {
   "cell_type": "code",
   "execution_count": null,
   "id": "2da984b4",
   "metadata": {},
   "outputs": [],
   "source": [
    "house_data.mains().available_ac_types('power')"
   ]
  },
  {
   "cell_type": "code",
   "execution_count": null,
   "id": "2f5be1e7",
   "metadata": {},
   "outputs": [],
   "source": [
    "house_data.submeters().available_ac_types('power')"
   ]
  },
  {
   "cell_type": "markdown",
   "id": "5adee094",
   "metadata": {},
   "source": [
    "###  Execute NILMTK Statistical APIs"
   ]
  },
  {
   "cell_type": "code",
   "execution_count": null,
   "id": "16352a79",
   "metadata": {},
   "outputs": [],
   "source": [
    "# Total Energy returns in 'kWh'\n",
    "\n",
    "house_data.mains().total_energy() "
   ]
  },
  {
   "cell_type": "code",
   "execution_count": null,
   "id": "4a4bbf1f",
   "metadata": {},
   "outputs": [],
   "source": [
    "# Energy use per submeter\n",
    "\n",
    "house_data.submeters().energy_per_meter()"
   ]
  },
  {
   "cell_type": "markdown",
   "id": "d6b897c0",
   "metadata": {},
   "source": [
    "***Notes:***\n",
    "\n",
    "**column headings** are the ElecMeter instance numbers.  You can try to do \"**print(house_data)**\" or other APIs to further exploration.\n",
    "\n",
    "The function fraction_per_meter does the same thing as energy_per_submeter but returns the fraction of energy per meter."
   ]
  },
  {
   "cell_type": "markdown",
   "id": "cc0aa6fb",
   "metadata": {},
   "source": [
    "### Select meters on the basis of their energy consumption\n",
    "Let's make a new MeterGroup which only contains the ElecMeters which used more than 10 kWh:"
   ]
  },
  {
   "cell_type": "code",
   "execution_count": null,
   "id": "c2d384d7",
   "metadata": {},
   "outputs": [],
   "source": [
    "# energy_per_meter is a DataFrame where each row is a \n",
    "# power type ('active', 'reactive' or 'apparent').\n",
    "# All appliance meters in REDD are record 'active' so just select\n",
    "# the 'active' row:\n",
    "energy_per_meter = house_data.submeters().energy_per_meter()\n",
    "\n",
    "energy_per_meter = energy_per_meter.loc['active']\n",
    "more_than_10 = energy_per_meter[energy_per_meter > 10]\n",
    "more_than_10"
   ]
  },
  {
   "cell_type": "code",
   "execution_count": null,
   "id": "08881089",
   "metadata": {},
   "outputs": [],
   "source": [
    "instances = more_than_10.index\n",
    "instances"
   ]
  },
  {
   "cell_type": "markdown",
   "id": "7417cd7b",
   "metadata": {},
   "source": [
    "## Plot fraction of energy consumption of each appliance"
   ]
  },
  {
   "cell_type": "code",
   "execution_count": null,
   "id": "8a093539",
   "metadata": {},
   "outputs": [],
   "source": [
    "# Remove Null records\n",
    "fraction = house_data.submeters().fraction_per_meter().dropna()"
   ]
  },
  {
   "cell_type": "code",
   "execution_count": null,
   "id": "4da625f2",
   "metadata": {},
   "outputs": [],
   "source": [
    "# Create convenient labels\n",
    "labels = house_data.get_labels(fraction.index)\n",
    "plt.figure(figsize=(10,30))\n",
    "fraction.plot(kind='pie', labels=labels);"
   ]
  },
  {
   "cell_type": "markdown",
   "id": "8fdbdea7",
   "metadata": {},
   "source": [
    "### Enhancing Data Visualization"
   ]
  },
  {
   "cell_type": "code",
   "execution_count": null,
   "id": "e6fdf34e",
   "metadata": {},
   "outputs": [],
   "source": [
    "# Sorting the value to descending order\n",
    "fraction_sorted = fraction.sort_values(ascending=False)\n",
    "\n",
    "# Create series object for the top 10 appliance\n",
    "fraction_top = fraction_sorted.head(15)\n",
    "\n",
    "# Sum up the Other appliance value\n",
    "others_val = 1 - fraction_top.sum()\n",
    "fraction_top\n",
    "\n",
    "# Create Pie Chart\n",
    "\n",
    "labels = house_data.get_labels(fraction_top.index)\n",
    "labels.append('Others')\n",
    "\n",
    "fraction_top['Others'] = others_val\n",
    "plt.figure(figsize=(10,30))\n",
    "fraction_top.plot(kind='pie', labels=labels, \n",
    "                  title=\"Top 15 of Appliance Energy Consumption\", \n",
    "                  autopct='%1.1f%%', label=\"\");"
   ]
  },
  {
   "cell_type": "code",
   "execution_count": null,
   "id": "9f1b526a",
   "metadata": {},
   "outputs": [],
   "source": [
    "# Create variable to store the 'Others' items\n",
    "fraction_others = fraction_sorted.iloc[15:]\n",
    "\n",
    "# Change series of index values, thus, bar chart x-label shows appliance name\n",
    "idx_labels = house_data.get_labels(fraction_others.index)\n",
    "fraction_others.index = idx_labels\n",
    "\n",
    "# Plot bar chart\n",
    "fraction_others.plot(kind='bar', x=labels, title=\"Others Fraction of Appliance - Value is in %\")"
   ]
  },
  {
   "cell_type": "markdown",
   "id": "87f6da05",
   "metadata": {},
   "source": [
    "### Wiring Diagram\n",
    "\n",
    "This is useful to quick view for nested MetaGroup or its categories.  However, if there are a lot of items, it won't show unreadable.  \n",
    "\n",
    "If there is two or three levels in its meter hierachy, then can use the API, for example, **\"house_data.meters_directly_downstream_of_mains()\"**."
   ]
  },
  {
   "cell_type": "code",
   "execution_count": null,
   "id": "3e9154db",
   "metadata": {},
   "outputs": [],
   "source": [
    "house_data.draw_wiring_graph()"
   ]
  },
  {
   "cell_type": "markdown",
   "id": "0c076202",
   "metadata": {},
   "source": [
    "### Plot appliances when they are in use"
   ]
  },
  {
   "cell_type": "code",
   "execution_count": null,
   "id": "c27d4f04",
   "metadata": {},
   "outputs": [],
   "source": [
    "house_data.plot_when_on(on_power_threshold = 40)"
   ]
  },
  {
   "cell_type": "markdown",
   "id": "f33e8d22",
   "metadata": {},
   "source": [
    "## Stats and info for individual meters - e.g. Fridge\n",
    "\n",
    "The ElecMeter class represents a single electricity meter. Each ElecMeter has a list of associated Appliance objects.  ElecMeter has many of the same stats methods as MeterGroup such as total_energy and available_power_ac_types and power_series and power_series_all_data. We will now explore some more stats functions (many of which are also available on MeterGroup)..."
   ]
  },
  {
   "cell_type": "code",
   "execution_count": null,
   "id": "ccb8f476",
   "metadata": {},
   "outputs": [],
   "source": [
    "fridge_meter = house_data['fridge']"
   ]
  },
  {
   "cell_type": "code",
   "execution_count": null,
   "id": "0bff22a8",
   "metadata": {},
   "outputs": [],
   "source": [
    "#Get upstream meter\n",
    "\n",
    "fridge_meter.upstream_meter() # happens to be the mains meter group!"
   ]
  },
  {
   "cell_type": "code",
   "execution_count": null,
   "id": "8064318b",
   "metadata": {},
   "outputs": [],
   "source": [
    "# Metadata about the class of meter\n",
    "\n",
    "fridge_meter.device"
   ]
  },
  {
   "cell_type": "code",
   "execution_count": null,
   "id": "557ea027",
   "metadata": {},
   "outputs": [],
   "source": [
    "# Dominant appliance\n",
    "#\n",
    "# If the metadata specifies that a meter has multiple meters connected to it then one \n",
    "# of those can be specified as the 'dominant' appliance, and this appliance can be retrieved \n",
    "# with this method\n",
    "\n",
    "fridge_meter.dominant_appliance()"
   ]
  },
  {
   "cell_type": "code",
   "execution_count": null,
   "id": "d1de7be8",
   "metadata": {},
   "outputs": [],
   "source": [
    "# Total energy\n",
    "\n",
    "fridge_meter.total_energy() # kWh"
   ]
  },
  {
   "cell_type": "code",
   "execution_count": null,
   "id": "e9dd9f08",
   "metadata": {},
   "outputs": [],
   "source": [
    "# Get good sections\n",
    "# If we plot the raw power data then we see there is one large gap where, supposedly, \n",
    "# the metering system was not working. (if we were to zoom in then we'd see lots of \n",
    "# smaller gaps too):\n",
    "\n",
    "fridge_meter.plot()"
   ]
  },
  {
   "cell_type": "code",
   "execution_count": null,
   "id": "f18e042e",
   "metadata": {},
   "outputs": [],
   "source": [
    "# We can automatically identify the 'good sections' (i.e. the sections where every pair of consecutive \n",
    "# samples is less than max_sample_period specified in the dataset metadata):\n",
    "\n",
    "good_sections = fridge_meter.good_sections(full_results=True)\n",
    "\n",
    "# specifying full_results=False would give us a simple list of \n",
    "# TimeFrames.  But we want the full GoodSectionsResults object so we can\n",
    "# plot the good sections...\n",
    "\n",
    "good_sections.plot()\n",
    "\n",
    "# The blue chunks show where the data is good. However, it does not show any other 'blue bar' that \n",
    "# has a gap.  If there is one or more white gap,  then it can show the large gap seen in the raw power \n",
    "# data. There may have lots of smaller gaps that we cannot see at this zoom level."
   ]
  },
  {
   "cell_type": "markdown",
   "id": "4806a7ea",
   "metadata": {
    "heading_collapsed": true
   },
   "source": [
    "# Your Summary and Finding\n",
    "\n",
    "Your work should cover analysis of spot anomalies, test a hypothesis with list of questions & assumptions for driving of next data modelling works.\n",
    "\n",
    "- Created Date: ??\n",
    "- Updated Date: ??\n",
    "\n",
    "**Findings:**\n",
    "- ?\n",
    "- ?\n",
    "- ?"
   ]
  },
  {
   "cell_type": "code",
   "execution_count": null,
   "id": "2b0936ad",
   "metadata": {
    "hidden": true
   },
   "outputs": [],
   "source": []
  }
 ],
 "metadata": {
  "kernelspec": {
   "display_name": "Python 3",
   "language": "python",
   "name": "python3"
  },
  "language_info": {
   "codemirror_mode": {
    "name": "ipython",
    "version": 3
   },
   "file_extension": ".py",
   "mimetype": "text/x-python",
   "name": "python",
   "nbconvert_exporter": "python",
   "pygments_lexer": "ipython3",
   "version": "3.6.10"
  },
  "toc": {
   "base_numbering": 1,
   "nav_menu": {},
   "number_sections": true,
   "sideBar": true,
   "skip_h1_title": false,
   "title_cell": "Table of Contents",
   "title_sidebar": "Contents",
   "toc_cell": false,
   "toc_position": {},
   "toc_section_display": true,
   "toc_window_display": false
  }
 },
 "nbformat": 4,
 "nbformat_minor": 5
}
