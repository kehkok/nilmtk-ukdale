{
 "cells": [
  {
   "cell_type": "markdown",
   "id": "5ff7fd5b",
   "metadata": {
    "heading_collapsed": true
   },
   "source": [
    "# Introduction to Initial Data Analysis\n",
    "\n",
    "Initial Data Analysis (IDA) consists of steps performed on the data of a study typically between the end of the data collection point.  IDA starts of those statistical analyses that address \"research questions\". It is important to detect the issues, then dealing with data issues as early as possible.  \n",
    "\n",
    "The output should contain the simplify of data collection with data summary report. \n",
    "\n",
    "- Created Date : **10/4/2022**\n",
    "- Updated Date : **14/4/2022**\n",
    "- Author       : KK Yong\n",
    "\n",
    "**References:**\n",
    "- [Using Dictionary in Python](https://realpython.com/python-dicts/)\n",
    "- [Handling Nested Dictionary](https://www.programiz.com/python-programming/nested-dictionary)\n",
    "- [OrderedDict in Python](https://www.geeksforgeeks.org/ordereddict-in-python/)\n",
    "- [Using Pandas Series](https://pythonbasics.org/pandas-series/)\n",
    "- [MultiIndex / advanced indexing](https://pandas.pydata.org/docs/user_guide/advanced.html)"
   ]
  },
  {
   "cell_type": "markdown",
   "id": "319afa64",
   "metadata": {},
   "source": [
    "# Initialization for Python and NILMTK\n",
    "\n",
    "Let's kick-off to process and analysis the data with Python."
   ]
  },
  {
   "cell_type": "code",
   "execution_count": null,
   "id": "40589629",
   "metadata": {},
   "outputs": [],
   "source": [
    "import dateutil\n",
    "import warnings\n",
    "\n",
    "import matplotlib.pyplot as plt\n",
    "import pandas as pd\n",
    "\n",
    "from datetime import datetime\n",
    "\n",
    "import nilmtk as ntk"
   ]
  },
  {
   "cell_type": "markdown",
   "id": "11df9bae",
   "metadata": {},
   "source": [
    "## Define constant and global variable"
   ]
  },
  {
   "cell_type": "code",
   "execution_count": null,
   "id": "20008da4",
   "metadata": {},
   "outputs": [],
   "source": [
    "warnings.filterwarnings(\"ignore\")\n",
    "plt.rcParams['figure.figsize'] = [15, 10]\n",
    "\n",
    "RAW_FILENAME = \"../Dataset/ukdale.h5\"\n",
    "\n",
    "START_TS ='2013-04-01 00:00:00'\n",
    "END_TS='2013-04-01 12:00:00'"
   ]
  },
  {
   "cell_type": "markdown",
   "id": "7186f0b5",
   "metadata": {},
   "source": [
    "## Overview of UK-DALE Dataset"
   ]
  },
  {
   "cell_type": "code",
   "execution_count": null,
   "id": "5a7382b5",
   "metadata": {},
   "outputs": [],
   "source": [
    "# Load dataset\n",
    "ukdale = ntk.DataSet(RAW_FILENAME)"
   ]
  },
  {
   "cell_type": "code",
   "execution_count": null,
   "id": "5120fa3b",
   "metadata": {},
   "outputs": [],
   "source": [
    "# Print metadata\n",
    "ntk.utils.print_dict(ukdale.metadata)"
   ]
  },
  {
   "cell_type": "markdown",
   "id": "e340cf03",
   "metadata": {},
   "source": [
    "### Access the Dictionary of Key-Value Pair Vs List"
   ]
  },
  {
   "cell_type": "code",
   "execution_count": null,
   "id": "336554cb",
   "metadata": {},
   "outputs": [],
   "source": [
    "print(\"\\nList of Keys at the top level, total {} items.\".format(len(list(ukdale.metadata))))\n",
    "print(list(ukdale.metadata))\n",
    "\n",
    "print(\"\\nList of Keys inside the 'meter_devices' sublevel\")\n",
    "print(list(ukdale.metadata['meter_devices']))\n",
    "\n",
    "print(\"\\nList of Keys inside the 'timeframe' sublevel\")\n",
    "print(list(ukdale.metadata['timeframe']))\n",
    "\n",
    "print(\"\\nShow values of 'description', which at top level\")\n",
    "print(ukdale.metadata['description'])\n",
    "\n",
    "print(\"\\nList of Keys inside the 'timeframe' sublevel\")\n",
    "print(\"Data type of timeframe is {}\".format(type(ukdale.metadata['timeframe'])))\n",
    "print(list(ukdale.metadata['timeframe'].values()))"
   ]
  },
  {
   "cell_type": "markdown",
   "id": "a7b4b032",
   "metadata": {},
   "source": [
    "###  Detect branches of DICT - \"ukdale.metadata\""
   ]
  },
  {
   "cell_type": "code",
   "execution_count": null,
   "id": "25119d27",
   "metadata": {},
   "outputs": [],
   "source": [
    "cnt = 0\n",
    "tmplst_dict = list()\n",
    "d = ukdale.metadata\n",
    "for e in d:\n",
    "    if type(d[e]) is dict:\n",
    "        cnt += 1\n",
    "        tmplst_dict.append(d[e])\n",
    "        print(\"{} - Data Type is {}.\".format(e,type(e)))\n",
    "#    else:\n",
    "#        print(\"{} - Data Type is {}.\".format(e,type(e)))\n",
    "\n",
    "print(\"\\nLength of dict in list = {}.\".format(len(tmplst_dict)))\n",
    "for item in tmplst_dict:\n",
    "    #if type(subitem) is dict:\n",
    "    #print(\"{} - Data Type is {}.\".format(item, type(item)))\n",
    "    print(\"...{} - {}\".format(len(item) ,type(item)))\n",
    "    for subitem in item:\n",
    "        print(\"{} - Data Type is {}.\".format(subitem, type(item[subitem])))"
   ]
  },
  {
   "cell_type": "code",
   "execution_count": null,
   "id": "4d9310d9",
   "metadata": {},
   "outputs": [],
   "source": [
    "def print_hierarchy(d,s):\n",
    "    cnt=0\n",
    "    cnt_dict = 0\n",
    "    cnt_other = 0\n",
    "    cnt_lvl = 0\n",
    "    global counter\n",
    "    s += \"#\"\n",
    "    for e in d:\n",
    "        emptysp = \"\"\n",
    "        if type(d[e]) is dict:\n",
    "            for i in range (len(s)):\n",
    "                emptysp += \"  \"\n",
    "            print(\"cnt_lvl={}.\\tcounter={}.\\t{}\\t{}-{}\".format(cnt_lvl,counter, s, emptysp, e))\n",
    "            dict_tree[e] = s\n",
    "            cnt_lvl += 1\n",
    "            counter += 1\n",
    "            cnt += print_hierarchy(d[e],s)\n",
    "        else:\n",
    "            cnt_other += 1\n",
    "    cnt_lvl -= 1\n",
    "    return cnt\n",
    "\n",
    "dict_tree = dict()\n",
    "counter = 0\n",
    "\n",
    "ret_cnt = print_hierarchy(ukdale.metadata,\"\")"
   ]
  },
  {
   "cell_type": "code",
   "execution_count": null,
   "id": "6c662e12",
   "metadata": {},
   "outputs": [],
   "source": [
    "# Working with nested dictionary\n",
    "\n",
    "dict_md_cct_mea = ukdale.metadata[\"meter_devices\"][\"CurrentCostTx\"][\"measurements\"]\n",
    "print(\"\\nList of Keys in 'meter_devices' -> CurrentCostTx -> measurements' sublevel\")\n",
    "print(\"Data type of dict_md_cct_mea is {}.\\n\".format(type(ukdale.metadata[\"meter_devices\"][\"CurrentCostTx\"][\"measurements\"])))\n",
    "print(list(ukdale.metadata[\"meter_devices\"][\"CurrentCostTx\"][\"measurements\"]))"
   ]
  },
  {
   "cell_type": "markdown",
   "id": "ef8f343f",
   "metadata": {},
   "source": [
    "### Understanding different between **( ) { } [ ]** in python\n",
    "\n",
    "**( )** is a tuple: An immutable collection of values, usually (but not necessarily) of different types. \n",
    "\n",
    "**[ ]** is a list: A mutable collection of values, usually (but not necessarily) of the same type. \n",
    "\n",
    "**{ }** is a dict: Use a dictionary for key value pairs."
   ]
  },
  {
   "cell_type": "code",
   "execution_count": null,
   "id": "4cbbdd52",
   "metadata": {},
   "outputs": [],
   "source": [
    "lst_mea = ukdale.metadata[\"meter_devices\"][\"CurrentCostTx\"][\"measurements\"]\n",
    "print(\"Count of the obj_mea list = {}\".format(len(lst_mea)))\n",
    "\n",
    "dict_mea = lst_mea[0]\n",
    "print(\"\\nList of keys for dict_mea\\t= {}\".format(list(dict_mea)))\n",
    "print(\"List of values for dict_mea\\t= {}\".format(dict_mea.values()))\n",
    "\n",
    "val_ul = lst_mea[0].get(\"upper_limit\")\n",
    "print(\"\\nGet value for lower_limit = {}. Data Type is {}\".format(val_ul, type(val_ul)))"
   ]
  },
  {
   "cell_type": "markdown",
   "id": "2e5f5ecf",
   "metadata": {},
   "source": [
    "### Drill down ukdale.metatdata with \"dict\" data type in \"DateTime\""
   ]
  },
  {
   "cell_type": "code",
   "execution_count": null,
   "id": "19f9cebc",
   "metadata": {},
   "outputs": [],
   "source": [
    "print(\"Data Type for the variable of ukdale.metadata is {}\".format(type(ukdale.metadata)))\n",
    "\n",
    "# Using dict - key & value  \n",
    "\n",
    "start_date_ukdale = ukdale.metadata.get(\"timeframe\").get(\"start\")\n",
    "end_date_ukdale = ukdale.metadata.get(\"timeframe\").get(\"end\")\n",
    "\n",
    "print(\"\\nRaw string format\")\n",
    "print(\"Data Type of start_date is {}, value string is {}\".format(type(start_date_ukdale), start_date_ukdale))\n",
    "print(\"Data Type of end_date is {}, value string is {}\".format(type(end_date_ukdale), end_date_ukdale))\n",
    "\n",
    "# The raw datetime string is in iso format.  As a result, it need to import the 'dateutil' library.\n",
    "# Then, convert the datetime iso format to data type of Datetime for python.\n",
    "# ts - short form of timestamp\n",
    "\n",
    "start_ts_ukdale = dateutil.parser.parse(start_date_ukdale)\n",
    "end_ts_ukdale = dateutil.parser.parse(end_date_ukdale)\n",
    "\n",
    "print(\"\\nConverted the iso format\")\n",
    "print(\"Data Type of start_date is {}, value string is {}\".format(type(start_ts_ukdale), start_ts_ukdale))\n",
    "print(\"Data Type of end_date is {}, value string is {}\".format(type(end_ts_ukdale), end_ts_ukdale))\n",
    "\n",
    "print(\"\\nDuration/Delta\")\n",
    "delta_in_days = end_ts_ukdale - start_ts_ukdale\n",
    "delta_in_years = dateutil.relativedelta.relativedelta(end_ts_ukdale, start_ts_ukdale).years\n",
    "print(\"Total of the recorded timespan is {} days or {} years\".format(delta_in_days.days, delta_in_years))"
   ]
  },
  {
   "cell_type": "markdown",
   "id": "b4f60e96",
   "metadata": {},
   "source": [
    "### Short Findings\n",
    "\n",
    "- Found out that the start date is 2012-11-09 until 2017-04-26 (~1628 days or ~4 years)"
   ]
  },
  {
   "cell_type": "markdown",
   "id": "1061575b",
   "metadata": {
    "heading_collapsed": true
   },
   "source": [
    "## Search certain timeframe"
   ]
  },
  {
   "cell_type": "code",
   "execution_count": null,
   "id": "61cd0171",
   "metadata": {
    "hidden": true
   },
   "outputs": [],
   "source": [
    "print(ukdale.buildings)\n",
    "print(\"\\nData Type of ukdale.buildings = {}. Count = {}.\".format(type(ukdale.buildings), len(ukdale.buildings)))"
   ]
  },
  {
   "cell_type": "code",
   "execution_count": null,
   "id": "b010d18c",
   "metadata": {
    "hidden": true
   },
   "outputs": [],
   "source": [
    "# Doubt to clear!!\n",
    "#\n",
    "# The start and end date for these data should 2012 to 2017.  However, the info extratcted\n",
    "# from it that showing 1 hour data on 2013-04-01.\n",
    "#\n",
    "# Therefore, need further investigation!\n",
    "\n",
    "print(ukdale.buildings[1].elec.get_timeframe())"
   ]
  },
  {
   "cell_type": "code",
   "execution_count": null,
   "id": "f65c0b25",
   "metadata": {
    "hidden": true
   },
   "outputs": [],
   "source": [
    "# Loop through the Data Type of OrderedDict \n",
    "\n",
    "for item in ukdale.buildings:\n",
    "    rec = ukdale.buildings[item].elec\n",
    "    print(\"buidling no = {}.\".format(item))\n",
    "    print(rec.get_timeframe())\n",
    "    print(\"Sample Period = {}.\".format(rec.sample_period()))\n",
    "    print(\"Appliances = {}.\".format(len(rec.appliances)))\n",
    "    print(\"\\n\")"
   ]
  },
  {
   "cell_type": "markdown",
   "id": "6f0060d7",
   "metadata": {
    "heading_collapsed": true
   },
   "source": [
    "## Extract House/Building 4 for data based on timeframe "
   ]
  },
  {
   "cell_type": "code",
   "execution_count": null,
   "id": "31c3c70c",
   "metadata": {
    "hidden": true
   },
   "outputs": [],
   "source": [
    "# Select Data based on specific time range\n",
    "ukdale.set_window(start=START_TS,end=END_TS)\n",
    "house_data = ukdale.buildings[4].elec\n",
    "\n",
    "# Simple plot house 4 time series of the power consumption\n",
    "house_data.plot()"
   ]
  },
  {
   "cell_type": "markdown",
   "id": "c4a0400c",
   "metadata": {
    "heading_collapsed": true,
    "hidden": true
   },
   "source": [
    "### MetaGroup\n",
    "\n",
    "Dataset consists of various grouping of electricty meters.  There is grouping type of appliances with its sampling rate, site meter for whole house, or appliance-level submeter, or a circuit-level submeter.  The NILMTK's design has consist of the key calss is **MeterGroup**. It stores a list of meters and allows to select subset of meters, aggregate power from all meters and many other functions.\n",
    "\n",
    "To access MetaGroup objects, **nilmtk.global_meter_group**.  This holds every meter currently loaded.  There is one **MeterGroups** per building, it can access via **Building.elec** attribute.  There is also **nested MetaGroups** for aggregating togehter split-phase mains and dual-supply (240 volt) applliances in North American and Canadian datasets.  You can call the API **\".nested_metergroups()\"**."
   ]
  },
  {
   "cell_type": "code",
   "execution_count": null,
   "id": "2e727f2c",
   "metadata": {
    "hidden": true
   },
   "outputs": [],
   "source": [
    "print(house_data)\n",
    "\n",
    "print(\"\\nData Type for the variable of house_data is {}.\".format(type(house_data)))"
   ]
  },
  {
   "cell_type": "code",
   "execution_count": null,
   "id": "8cecdc28",
   "metadata": {
    "hidden": true
   },
   "outputs": [],
   "source": [
    "house_data.mains()"
   ]
  },
  {
   "cell_type": "markdown",
   "id": "8c31b422",
   "metadata": {
    "hidden": true
   },
   "source": [
    "***WORKOUT!***\n",
    "\n",
    "* There isn't any nested MetaGroups in this MeterGroup object.  You can try out and find out any nested group in other similiar object or change different house/building. On the other hand, you can also review the documentation of UK-DALE dataset.*"
   ]
  },
  {
   "cell_type": "markdown",
   "id": "84b6d630",
   "metadata": {
    "heading_collapsed": true,
    "hidden": true
   },
   "source": [
    "### Load all columns data (default) to a dataframe\n",
    "\n",
    "This is to show ways of loading data from a NILMTK DataStore into the memory, as a dataframe.  The load function returns a generator of DataFrames loaded from the DataStore based on the conditions specified. If no conditions are specified, then all data from all the columns is loaded. This is a quick guide to [Python generators.](http://stackoverflow.com/a/1756156/732596)"
   ]
  },
  {
   "cell_type": "code",
   "execution_count": null,
   "id": "70764ec3",
   "metadata": {
    "hidden": true
   },
   "outputs": [],
   "source": [
    "#\n",
    "# Load 'site_meter' (aggregated data) to variable \"main_df\" dataframe\n",
    "#\n",
    "# Sample Period is in second. It can be resampling to a specified period, eg 12, 24, 30 or 60.\n",
    "# Default sample rate is 6 second per log\n",
    "#\n",
    "main_df = next(house_data[1].load(sample_period=30))\n",
    "\n",
    "main_df.head()"
   ]
  },
  {
   "cell_type": "code",
   "execution_count": null,
   "id": "18c892d7",
   "metadata": {
    "hidden": true
   },
   "outputs": [],
   "source": [
    "# Print all available meters and appliance in house 4\n",
    "\n",
    "house_data.all_meters()"
   ]
  },
  {
   "cell_type": "markdown",
   "id": "9b5873f0",
   "metadata": {
    "hidden": true
   },
   "source": [
    "### Load only washing machine to dataframe"
   ]
  },
  {
   "cell_type": "code",
   "execution_count": null,
   "id": "cb75f6a6",
   "metadata": {
    "hidden": true
   },
   "outputs": [],
   "source": [
    "df_wm = next(house_data['washing machine'].load())\n",
    "df_wm.plot()"
   ]
  },
  {
   "cell_type": "markdown",
   "id": "750b71c3",
   "metadata": {
    "hidden": true
   },
   "source": [
    "***WORKOUT!***\n",
    "\n",
    "*You can practice to zoom to the interesting time zone, and further exploring the statistical analysis.*"
   ]
  },
  {
   "cell_type": "code",
   "execution_count": null,
   "id": "ff2d43f4",
   "metadata": {
    "hidden": true
   },
   "outputs": [],
   "source": [
    "df_wm.describe()"
   ]
  },
  {
   "cell_type": "markdown",
   "id": "e94e8361",
   "metadata": {
    "hidden": true
   },
   "source": [
    "***WORKOUT!***\n",
    "\n",
    "*Various sampling rate setting may provide different slice-and-dice of the description.  It also can further the statistical analysis with std and mean.*"
   ]
  },
  {
   "cell_type": "markdown",
   "id": "b5168205",
   "metadata": {
    "hidden": true
   },
   "source": [
    "### Get column data and  load specfic column of data\n",
    "\n",
    "This is to show how to extract specify column of data.  It picks washine machine as an example.  Thus, api '.available_columns' is to show all the columns name.\n",
    "\n",
    "Also, it can load specific data to another data type, which is pandas series.  This utilize the API of '.power_series()'.  It provides a generator of one dimenstional pandas.Series objects, each containing power data."
   ]
  },
  {
   "cell_type": "code",
   "execution_count": null,
   "id": "b80cce85",
   "metadata": {
    "hidden": true
   },
   "outputs": [],
   "source": [
    "# Get column header\n",
    "\n",
    "obj_wm = house_data['washing machine']\n",
    "obj_wm.available_columns()"
   ]
  },
  {
   "cell_type": "code",
   "execution_count": null,
   "id": "0a8febe9",
   "metadata": {
    "hidden": true
   },
   "outputs": [],
   "source": [
    "series_wm = next(obj_wm.power_series())\n",
    "series_wm.head()"
   ]
  },
  {
   "cell_type": "markdown",
   "id": "300776b5",
   "metadata": {
    "hidden": true
   },
   "source": [
    "***Notes:***\n",
    "\n",
    "*Due to the current dataset only providing (power, active) single column value, therefore, it cannot specify other. It can do in below argument to the function.  If there is 'reactive', 'active' or 'voltage'. Below are the code reference.*\n",
    "\n",
    "```\n",
    "obj_tv = elec['television']\n",
    "\n",
    "df = next(obj_tv.load(physical_quantity='voltage'))\n",
    "df = next(obj_tv.load(physical_quantity='power', ac_type='reactive'))\n",
    "df = next(obj_tv.load(ac_type='active'))\n",
    "```"
   ]
  },
  {
   "cell_type": "markdown",
   "id": "8e1dae94",
   "metadata": {
    "heading_collapsed": true
   },
   "source": [
    "##  APIs of Stats for MeterGroups"
   ]
  },
  {
   "cell_type": "markdown",
   "id": "870a6ffe",
   "metadata": {
    "heading_collapsed": true,
    "hidden": true
   },
   "source": [
    "### Using Pandas Series to perform simple analysis\n",
    "\n",
    "**House  power consumption extract from \"main\" meter with simple plot**."
   ]
  },
  {
   "cell_type": "code",
   "execution_count": null,
   "id": "d6fcdedf",
   "metadata": {
    "hidden": true
   },
   "outputs": [],
   "source": [
    "house_data.mains().power_series_all_data().head()"
   ]
  },
  {
   "cell_type": "code",
   "execution_count": null,
   "id": "a7ea0645",
   "metadata": {
    "hidden": true,
    "scrolled": false
   },
   "outputs": [],
   "source": [
    "house_data.mains().power_series_all_data().plot()"
   ]
  },
  {
   "cell_type": "code",
   "execution_count": null,
   "id": "e5917332",
   "metadata": {
    "hidden": true
   },
   "outputs": [],
   "source": [
    "start_dtts = dateutil.parser.parse(START_TS)\n",
    "end_dtts = dateutil.parser.parse(END_TS)\n",
    "delta_in_days = end_dtts - start_dtts\n",
    "\n",
    "print(\"Start Date    : {}\".format(START_TS))\n",
    "print(\"End Date      : {}\\n\".format(END_TS))\n",
    "print(\"Total of Hours (hr:min:sec)  = {}\".format(delta_in_days))\n",
    "print(\"Total of power consumption   = {:.2f}\".format(house_data.mains().power_series_all_data().sum()))\n",
    "print(\"Median of power consumption  = {:.2f}\".format(house_data.mains().power_series_all_data().median()))\n",
    "print(\"Average of power consumption = {:.2f}\".format(house_data.mains().power_series_all_data().mean()))"
   ]
  },
  {
   "cell_type": "markdown",
   "id": "a3f3f624",
   "metadata": {
    "hidden": true
   },
   "source": [
    "***WORKOUT!***\n",
    "\n",
    "*You can practice to create histogram chart to group by hours, and further exploring the statistical analysis.*"
   ]
  },
  {
   "cell_type": "markdown",
   "id": "b3dd75e6",
   "metadata": {
    "heading_collapsed": true,
    "hidden": true
   },
   "source": [
    "### Using NILMTK APIs to perform statistical analysis"
   ]
  },
  {
   "cell_type": "markdown",
   "id": "45b1d268",
   "metadata": {
    "hidden": true
   },
   "source": [
    "This is to see the proportion of energy submetered in house/building 4"
   ]
  },
  {
   "cell_type": "code",
   "execution_count": null,
   "id": "1a9106f1",
   "metadata": {
    "hidden": true
   },
   "outputs": [],
   "source": [
    "house_data.proportion_of_energy_submetered()"
   ]
  },
  {
   "cell_type": "code",
   "execution_count": null,
   "id": "b9861985",
   "metadata": {
    "hidden": true
   },
   "outputs": [],
   "source": [
    "house_data.available_ac_types('power')"
   ]
  },
  {
   "cell_type": "code",
   "execution_count": null,
   "id": "150a8c81",
   "metadata": {
    "hidden": true
   },
   "outputs": [],
   "source": [
    "house_data.mains().available_ac_types('power')"
   ]
  },
  {
   "cell_type": "code",
   "execution_count": null,
   "id": "b51f8455",
   "metadata": {
    "hidden": true
   },
   "outputs": [],
   "source": [
    "house_data.submeters().available_ac_types('power')"
   ]
  },
  {
   "cell_type": "code",
   "execution_count": null,
   "id": "be0349c1",
   "metadata": {
    "hidden": true
   },
   "outputs": [],
   "source": [
    "# Total Energy returns in 'kWh'\n",
    "\n",
    "house_data.mains().total_energy() "
   ]
  },
  {
   "cell_type": "code",
   "execution_count": null,
   "id": "332823d1",
   "metadata": {
    "hidden": true
   },
   "outputs": [],
   "source": [
    "# Energy use per submeter\n",
    "\n",
    "house_data.submeters().energy_per_meter()"
   ]
  },
  {
   "cell_type": "markdown",
   "id": "99847946",
   "metadata": {
    "heading_collapsed": true
   },
   "source": [
    "# Your Summary and Finding\n",
    "\n",
    "Let's exercise here, and further this initial data exploration with its analysis.  Then, you provide the summary and findings here. \n",
    "\n",
    "- Created Date: ??\n",
    "- Updated Date: ??\n",
    "\n",
    "**Findings:**\n",
    "- ?\n",
    "- ?\n",
    "- ?"
   ]
  }
 ],
 "metadata": {
  "kernelspec": {
   "display_name": "Python 3",
   "language": "python",
   "name": "python3"
  },
  "language_info": {
   "codemirror_mode": {
    "name": "ipython",
    "version": 3
   },
   "file_extension": ".py",
   "mimetype": "text/x-python",
   "name": "python",
   "nbconvert_exporter": "python",
   "pygments_lexer": "ipython3",
   "version": "3.6.10"
  },
  "toc": {
   "base_numbering": 1,
   "nav_menu": {
    "height": "157px",
    "width": "320px"
   },
   "number_sections": true,
   "sideBar": true,
   "skip_h1_title": false,
   "title_cell": "Table of Contents",
   "title_sidebar": "Contents",
   "toc_cell": false,
   "toc_position": {},
   "toc_section_display": true,
   "toc_window_display": false
  }
 },
 "nbformat": 4,
 "nbformat_minor": 5
}
