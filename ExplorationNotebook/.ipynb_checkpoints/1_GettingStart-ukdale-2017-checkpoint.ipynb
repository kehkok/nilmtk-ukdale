{
 "cells": [
  {
   "cell_type": "markdown",
   "id": "bcfb1c63",
   "metadata": {},
   "source": [
    "# Overview UK-DALE 2017 Dataset\n",
    "\n",
    "NILMTK uses an open file format based on the HDF5 binary file format to store both the power data and the metadata. The very first step when using NILMTK is to convert your dataset to the NILMTK HDF5 file format.\n",
    "\n",
    "UK Domestic Appliance Level Electricity (UK-DALE).  This is the full UK-DALE-disaggregated h5 format data, which had ~5GB raw size.\n",
    "\n",
    "Created at: **11/4/2022**\n",
    "\n",
    "**References**\n",
    "- [General Info for UK-DALE 2017](https://data.ukedc.rl.ac.uk/browse/edc/efficiency/residential/EnergyConsumption/Domestic/UK-DALE-2017/ReadMe_DALE-2017.html)\n",
    "- [Download Raw Dataset at ukedc](https://data.ukedc.rl.ac.uk/browse/edc/efficiency/residential/EnergyConsumption/Domestic/UK-DALE-2017/UK-DALE-FULL-disaggregated)\n",
    "- [More NILMTK APIs](http://nilmtk.github.io/nilmtk/master/index.html)\n",
    "- HDF5 - Hierarchical Data Formats\n",
    "  - [What is HDF5 format](https://en.wikipedia.org/wiki/Hierarchical_Data_Format)\n",
    "  - [HDF5 for Python](https://www.h5py.org)\n",
    "- Documentation\n",
    "  - [Google Python Style Guide](https://google.github.io/styleguide/pyguide.html)\n",
    "  - [Markdown Cheat Sheet -MD](https://www.markdownguide.org/cheat-sheet/)\n",
    "  - [pandas 0.25.3 Documentation](https://pandas.pydata.org/pandas-docs/version/0.25.3/)\n",
    "  - [series Documentation](https://pandas.pydata.org/pandas-docs/version/0.25.3/reference/series.html)\n",
    "  - [Python 3.6.10 Documentation](https://docs.python.org/release/3.6.10/)\n"
   ]
  },
  {
   "cell_type": "markdown",
   "id": "1f351af8",
   "metadata": {},
   "source": [
    "# Initialization for Python and NILMTK\n"
   ]
  },
  {
   "cell_type": "code",
   "execution_count": 1,
   "id": "a2485785",
   "metadata": {},
   "outputs": [],
   "source": [
    "import os\n",
    "import platform\n",
    "import sys\n",
    "\n",
    "import pandas as pd\n",
    "\n",
    "import nilmtk as ntk"
   ]
  },
  {
   "cell_type": "markdown",
   "id": "77d93e83",
   "metadata": {},
   "source": [
    "## Get Version Information"
   ]
  },
  {
   "cell_type": "code",
   "execution_count": 2,
   "id": "188da781",
   "metadata": {},
   "outputs": [
    {
     "name": "stdout",
     "output_type": "stream",
     "text": [
      "Python Version\n",
      "3.6.10 |Anaconda, Inc.| (default, Mar 23 2020, 23:13:11) \n",
      "[GCC 7.3.0]\n",
      "\n",
      "Pandas Version\n",
      "0.25.3\n",
      "\n",
      "NILMTK Version\n",
      "0.4.0.dev1+git.303d45b\n",
      "\n",
      "OS Version\n",
      "Linux-5.4.0-113-generic-x86_64-with-debian-buster-sid\n"
     ]
    }
   ],
   "source": [
    "print(\"Python Version\\n{}\".format(sys.version))\n",
    "\n",
    "print(\"\\nPandas Version\\n{}\".format(pd.__version__))\n",
    "\n",
    "print(\"\\nNILMTK Version\\n{}\".format(ntk.__version__))\n",
    "\n",
    "print(\"\\nOS Version\\n{}\".format(platform.platform()))"
   ]
  },
  {
   "cell_type": "markdown",
   "id": "f5f6b432",
   "metadata": {},
   "source": [
    "## Define Global, Constant Variables and Functions"
   ]
  },
  {
   "cell_type": "code",
   "execution_count": 3,
   "id": "5a9cd583",
   "metadata": {},
   "outputs": [],
   "source": [
    "FILENAME = \"../../Dataset/ukdale.h5\""
   ]
  },
  {
   "cell_type": "markdown",
   "id": "f129231d",
   "metadata": {},
   "source": [
    "## Open UK-DALE 2017 HDF5 file in NILMTK"
   ]
  },
  {
   "cell_type": "code",
   "execution_count": 4,
   "id": "5f623049",
   "metadata": {},
   "outputs": [
    {
     "name": "stdout",
     "output_type": "stream",
     "text": [
      "Raw h5 file size is ~5.90GB\n"
     ]
    }
   ],
   "source": [
    "ds = ntk.DataSet(FILENAME)\n",
    "\n",
    "raw_file_size = os.path.getsize(FILENAME)\n",
    "print(\"Raw h5 file size is ~{:.2f}GB\".format(raw_file_size / 1024 / 1024 / 1024)) "
   ]
  },
  {
   "cell_type": "code",
   "execution_count": 5,
   "id": "5cc11354",
   "metadata": {},
   "outputs": [
    {
     "name": "stdout",
     "output_type": "stream",
     "text": [
      "ds data type is <class 'nilmtk.dataset.DataSet'> - Hello\n"
     ]
    }
   ],
   "source": [
    "print(\"ds data type is {} - {}\".format(type(ds), \"Hello\"))"
   ]
  },
  {
   "cell_type": "markdown",
   "id": "44192d5c",
   "metadata": {},
   "source": [
    "# Exploring the Dataset\n",
    "\n",
    "This is to hava a quick look into whats in UK-DALE dataset object.  \n",
    "\n",
    "Reference:\n",
    "- [Python 3.6 Doc - collection.OrderedDict](https://docs.python.org/3.6/library/collections.html#ordereddict-objects)\n",
    "- [Python 3.6 Doc - dict](https://docs.python.org/3.6/tutorial/datastructures.html#dictionaries)"
   ]
  },
  {
   "cell_type": "markdown",
   "id": "d36b3033",
   "metadata": {},
   "source": [
    "## Dataset.Metadata \n",
    "There is a lot of metadata associated with the dataset, including information about the \n",
    "models of meter device the authors used to record UK-DALE."
   ]
  },
  {
   "cell_type": "code",
   "execution_count": 6,
   "id": "b059ed1e",
   "metadata": {},
   "outputs": [
    {
     "name": "stdout",
     "output_type": "stream",
     "text": [
      "<class 'dict'>\n"
     ]
    }
   ],
   "source": [
    "print(type(ds.metadata))"
   ]
  },
  {
   "cell_type": "markdown",
   "id": "ce845ed1",
   "metadata": {},
   "source": [
    "### Print out the metadata to see the key and value"
   ]
  },
  {
   "cell_type": "code",
   "execution_count": 7,
   "id": "efcef167",
   "metadata": {},
   "outputs": [
    {
     "data": {
      "text/html": [
       "<ul><li><strong>description_of_subjects</strong>: 4 MSc students and 1 PhD student.</li><li><strong>meter_devices</strong>: <ul><li><strong>EcoManagerTxPlug</strong>: <ul><li><strong>max_sample_period</strong>: 120</li><li><strong>model_url</strong>: <a href=\"https://shop.edfenergy.com/Item.aspx?id=540\">https://shop.edfenergy.com/Item.aspx?id=540</a></li><li><strong>wireless_configuration</strong>: <ul><li><strong>base</strong>: creators: [Jack Kelly] model: rfm_edf_ecomanager model_url: <a href=\"https://github.com/JackKelly/rfm_edf_ecomanager/\">https://github.com/JackKelly/rfm_edf_ecomanager/</a>\n",
       "</li><li><strong>protocol</strong>: custom</li><li><strong>carrier_frequency</strong>: 434</li></ul></li><li><strong>brand</strong>: EcoManager</li><li><strong>measurements</strong>: <ul><li>{'lower_limit': 0, 'upper_limit': 3300, 'physical_quantity': 'power', 'type': 'active'}</li></ul></li><li><strong>data_logger</strong>: <ul><li><strong>model</strong>: rfm_ecomanager_logger</li><li><strong>creators</strong>: <ul><li>Jack Kelly</li></ul></li><li><strong>model_url</strong>: <a href=\"https://github.com/JackKelly/rfm_ecomanager_logger\">https://github.com/JackKelly/rfm_ecomanager_logger</a></li></ul></li><li><strong>sample_period</strong>: 6</li><li><strong>wireless</strong>: True</li><li><strong>brand_url</strong>: <a href=\"http://www.edfenergy.com/products-services/for-your-home/ecomanager\">http://www.edfenergy.com/products-services/for-your-home/ecomanager</a></li><li><strong>model</strong>: EcoManagerTxPlug</li><li><strong>seller</strong>: EDF Energy</li><li><strong>manufacturer</strong>: Current Cost / Sailwider</li></ul></li><li><strong>CurrentCostTx</strong>: <ul><li><strong>max_sample_period</strong>: 120</li><li><strong>model_url</strong>: <a href=\"http://www.currentcost.com/product-transmitter.html\">http://www.currentcost.com/product-transmitter.html</a></li><li><strong>wireless_configuration</strong>: <ul><li><strong>base</strong>: creators: [Jack Kelly] model: rfm_edf_ecomanager model_url: <a href=\"https://github.com/JackKelly/rfm_edf_ecomanager/\">https://github.com/JackKelly/rfm_edf_ecomanager/</a>\n",
       "</li><li><strong>protocol</strong>: custom</li><li><strong>carrier_frequency</strong>: 434</li></ul></li><li><strong>measurements</strong>: <ul><li>{'lower_limit': 0, 'upper_limit': 25000, 'physical_quantity': 'power', 'type': 'apparent'}</li></ul></li><li><strong>data_logger</strong>: <ul><li><strong>model</strong>: rfm_ecomanager_logger</li><li><strong>creators</strong>: <ul><li>Jack Kelly</li></ul></li><li><strong>model_url</strong>: <a href=\"https://github.com/JackKelly/rfm_ecomanager_logger\">https://github.com/JackKelly/rfm_ecomanager_logger</a></li></ul></li><li><strong>sample_period</strong>: 6</li><li><strong>wireless</strong>: True</li><li><strong>model</strong>: CurrentCost Tx</li><li><strong>manufacturer</strong>: Current Cost</li></ul></li><li><strong>SoundCardPowerMeter</strong>: <ul><li><strong>max_sample_period</strong>: 3</li><li><strong>wireless</strong>: False</li><li><strong>model_url</strong>: <a href=\"https://github.com/JackKelly/snd_card_power_meter\">https://github.com/JackKelly/snd_card_power_meter</a></li><li><strong>model</strong>: Sound Card Power Meter</li><li><strong>measurements</strong>: <ul><li>{'lower_limit': 0, 'upper_limit': 25000, 'physical_quantity': 'power', 'type': 'active'}</li><li>{'lower_limit': 0, 'upper_limit': 25000, 'physical_quantity': 'power', 'type': 'apparent'}</li><li>{'lower_limit': 180, 'upper_limit': 275, 'physical_quantity': 'voltage', 'description': 'RMS voltage'}</li></ul></li><li><strong>manufacturer</strong>: Jack Kelly / Imperial College London</li><li><strong>sample_period</strong>: 1</li></ul></li><li><strong>EcoManagerWholeHouseTx</strong>: <ul><li><strong>max_sample_period</strong>: 120</li><li><strong>model_url</strong>: <a href=\"https://shop.edfenergy.com/Item.aspx?id=547\">https://shop.edfenergy.com/Item.aspx?id=547</a></li><li><strong>wireless_configuration</strong>: <ul><li><strong>base</strong>: creators: [Jack Kelly] model: rfm_edf_ecomanager model_url: <a href=\"https://github.com/JackKelly/rfm_edf_ecomanager/\">https://github.com/JackKelly/rfm_edf_ecomanager/</a>\n",
       "</li><li><strong>protocol</strong>: custom</li><li><strong>carrier_frequency</strong>: 434</li></ul></li><li><strong>brand</strong>: EcoManager</li><li><strong>measurements</strong>: <ul><li>{'lower_limit': 0, 'upper_limit': 25000, 'physical_quantity': 'power', 'type': 'apparent'}</li></ul></li><li><strong>data_logger</strong>: <ul><li><strong>model</strong>: rfm_ecomanager_logger</li><li><strong>creators</strong>: <ul><li>Jack Kelly</li></ul></li><li><strong>model_url</strong>: <a href=\"https://github.com/JackKelly/rfm_ecomanager_logger\">https://github.com/JackKelly/rfm_ecomanager_logger</a></li></ul></li><li><strong>sample_period</strong>: 6</li><li><strong>wireless</strong>: True</li><li><strong>brand_url</strong>: <a href=\"http://www.edfenergy.com/products-services/for-your-home/ecomanager\">http://www.edfenergy.com/products-services/for-your-home/ecomanager</a></li><li><strong>model</strong>: EcoManagerWholeHouseTx</li><li><strong>seller</strong>: EDF Energy</li><li><strong>site_meter</strong>: True</li><li><strong>manufacturer</strong>: Current Cost / Sailwider</li></ul></li></ul></li><li><strong>description</strong>: Appliance-by-appliance and whole-home power demand for 5 UK homes. Appliance power demand was recorded once every 6 seconds. Whole-home power demand was recorded once every 6 seconds for all homes and additionally at 16kHz for homes 1, 2 and 5. Detailed metadata is included.</li><li><strong>rights_list</strong>: <ul><li>{'name': 'Creative Commons Attribution 4.0 International (CC BY 4.0)', 'uri': 'http://creativecommons.org/licenses/by/4.0/'}</li></ul></li><li><strong>long_name</strong>: UK Domestic Appliance-Level Electricity</li><li><strong>geo_location</strong>: <ul><li><strong>latitude</strong>: 51.464462</li><li><strong>country</strong>: GB</li><li><strong>longitude</strong>: -0.076544</li><li><strong>locality</strong>: London</li></ul></li><li><strong>date</strong>: 2017-04-26</li><li><strong>timezone</strong>: Europe/London</li><li><strong>institution</strong>: Imperial College London</li><li><strong>subject</strong>: Disaggregated domestic electricity demand</li><li><strong>publisher</strong>: UK Energy Research Centre Energy Data Centre (UKERC EDC)</li><li><strong>funding</strong>: <ul><li>Jack Kelly's PhD is funded by an EPSRC DTA</li><li>Hardware necessary for this project was funded from Jack Kelly's Intel EU PhD Fellowship</li></ul></li><li><strong>name</strong>: UK-DALE</li><li><strong>number_of_buildings</strong>: 5</li><li><strong>related_documents</strong>: <ul><li>Jack Kelly and William Knottenbelt. The UK-DALE dataset, domestic appliance-level electricity demand and whole-house demand from five UK homes.  To appear in Scientific Data 2:150007.  DOI:10.1038/sdata.2015.7 arXiv:1404.0284 (2015).</li><li>Dataset is available for download from <a href=\"http://www.doc.ic.ac.uk/~dk3810/data/\">http://www.doc.ic.ac.uk/~dk3810/data/</a></li><li>Dataset is also available from the UK Energy Research Council's Energy Data Centre: The 1-second data is available from <a href=\"http://data.ukedc.rl.ac.uk/cgi-bin/dataset_catalogue/view.cgi.py?id=19\">http://data.ukedc.rl.ac.uk/cgi-bin/dataset_catalogue/view.cgi.py?id=19</a> and the 6-second data is available from <a href=\"http://data.ukedc.rl.ac.uk/cgi-bin/dataset_catalogue/view.cgi.py?id=18\">http://data.ukedc.rl.ac.uk/cgi-bin/dataset_catalogue/view.cgi.py?id=18</a> but please note that this archive is updated less frequently than the data on www.doc.ic.ac.uk/~dk3810/data/</li></ul></li><li><strong>contact</strong>: jack.kelly@imperial.ac.uk</li><li><strong>timeframe</strong>: <ul><li><strong>start</strong>: 2012-11-09T22:28:15+00:00</li><li><strong>end</strong>: 2017-04-26T18:35:53+01:00</li></ul></li><li><strong>geospatial_coverage</strong>: Southern England</li><li><strong>creators</strong>: <ul><li>Kelly, Jack</li></ul></li><li><strong>schema</strong>: <a href=\"https://github.com/nilmtk/nilm_metadata/tree/v0.2\">https://github.com/nilmtk/nilm_metadata/tree/v0.2</a></li></ul>"
      ],
      "text/plain": [
       "<IPython.core.display.HTML object>"
      ]
     },
     "metadata": {},
     "output_type": "display_data"
    }
   ],
   "source": [
    "ntk.utils.print_dict(ds.metadata)"
   ]
  },
  {
   "cell_type": "markdown",
   "id": "f3abd772",
   "metadata": {},
   "source": [
    "### Get - \"ds.buildings\" in 'collections.OrderedDict'"
   ]
  },
  {
   "cell_type": "code",
   "execution_count": 8,
   "id": "aeb181ab",
   "metadata": {},
   "outputs": [
    {
     "data": {
      "text/html": [
       "<ul><li><strong>1</strong>: Building(instance=1, dataset='UK-DALE')</li><li><strong>2</strong>: Building(instance=2, dataset='UK-DALE')</li><li><strong>3</strong>: Building(instance=3, dataset='UK-DALE')</li><li><strong>4</strong>: Building(instance=4, dataset='UK-DALE')</li><li><strong>5</strong>: Building(instance=5, dataset='UK-DALE')</li></ul>"
      ],
      "text/plain": [
       "<IPython.core.display.HTML object>"
      ]
     },
     "metadata": {},
     "output_type": "display_data"
    }
   ],
   "source": [
    "ntk.utils.print_dict(ds.buildings)"
   ]
  },
  {
   "cell_type": "code",
   "execution_count": 9,
   "id": "44aa97eb",
   "metadata": {},
   "outputs": [
    {
     "name": "stdout",
     "output_type": "stream",
     "text": [
      "<class 'collections.OrderedDict'>\n"
     ]
    }
   ],
   "source": [
    "print(type(ds.buildings))"
   ]
  },
  {
   "cell_type": "code",
   "execution_count": 10,
   "id": "1f879fe6",
   "metadata": {},
   "outputs": [
    {
     "data": {
      "text/plain": [
       "5"
      ]
     },
     "execution_count": 10,
     "metadata": {},
     "output_type": "execute_result"
    }
   ],
   "source": [
    "len(ds.buildings)"
   ]
  },
  {
   "cell_type": "markdown",
   "id": "8d10c33b",
   "metadata": {
    "heading_collapsed": true
   },
   "source": [
    "## Dataset.Buildling \n",
    "\n",
    "Each building has a little bit of metadata associated with it (there isn't much building-specific metadata in UK-DALE):"
   ]
  },
  {
   "cell_type": "code",
   "execution_count": 11,
   "id": "75ea8587",
   "metadata": {
    "hidden": true
   },
   "outputs": [
    {
     "data": {
      "text/plain": [
       "Building(instance=1, dataset='UK-DALE')"
      ]
     },
     "execution_count": 11,
     "metadata": {},
     "output_type": "execute_result"
    }
   ],
   "source": [
    "# Define building/house number\n",
    "mybuilding = ds.buildings[1]\n",
    "mybuilding"
   ]
  },
  {
   "cell_type": "code",
   "execution_count": 12,
   "id": "e92d1da3",
   "metadata": {
    "hidden": true
   },
   "outputs": [
    {
     "data": {
      "text/plain": [
       "nilmtk.building.Building"
      ]
     },
     "execution_count": 12,
     "metadata": {},
     "output_type": "execute_result"
    }
   ],
   "source": [
    "type(ds.buildings[1])"
   ]
  },
  {
   "cell_type": "markdown",
   "id": "f6e9d185",
   "metadata": {
    "heading_collapsed": true,
    "hidden": true
   },
   "source": [
    "### Access Building 1 metadata"
   ]
  },
  {
   "cell_type": "code",
   "execution_count": 13,
   "id": "79688c64",
   "metadata": {
    "hidden": true
   },
   "outputs": [
    {
     "data": {
      "text/plain": [
       "dict"
      ]
     },
     "execution_count": 13,
     "metadata": {},
     "output_type": "execute_result"
    }
   ],
   "source": [
    "type(mybuilding.metadata)"
   ]
  },
  {
   "cell_type": "code",
   "execution_count": 14,
   "id": "d95e5025",
   "metadata": {
    "hidden": true
   },
   "outputs": [
    {
     "data": {
      "text/plain": [
       "dict_keys(['description', 'description_of_occupants', 'original_name', 'heating', 'instance', 'building_type', 'energy_improvements', 'rooms', 'ownership', 'timeframe', 'construction_year', 'n_occupants', 'dataset'])"
      ]
     },
     "execution_count": 14,
     "metadata": {},
     "output_type": "execute_result"
    }
   ],
   "source": [
    "# Get all keys from dictionary\n",
    "mybuilding.metadata.keys()"
   ]
  },
  {
   "cell_type": "code",
   "execution_count": 15,
   "id": "be3f4f13",
   "metadata": {
    "hidden": true
   },
   "outputs": [
    {
     "data": {
      "text/plain": [
       "['solar thermal', 'loft insulation', 'solid wall insulation', 'double glazing']"
      ]
     },
     "execution_count": 15,
     "metadata": {},
     "output_type": "execute_result"
    }
   ],
   "source": [
    "ds.buildings[1].metadata['energy_improvements']"
   ]
  },
  {
   "cell_type": "markdown",
   "id": "c9cff6b3",
   "metadata": {
    "heading_collapsed": true,
    "hidden": true
   },
   "source": [
    "#### Extract specified key - timeframe"
   ]
  },
  {
   "cell_type": "code",
   "execution_count": 16,
   "id": "6f3a76c3",
   "metadata": {
    "hidden": true
   },
   "outputs": [
    {
     "name": "stdout",
     "output_type": "stream",
     "text": [
      "{'start': '2012-11-09T22:28:15+00:00', 'end': '2017-04-26T18:35:53+01:00'}\n"
     ]
    }
   ],
   "source": [
    "# Get the value of 'timeframe' by specifing the key in dictionary\n",
    "dict_metadata_timeframe = ds.buildings[1].metadata['timeframe']\n",
    "print(dict_metadata_timeframe)"
   ]
  },
  {
   "cell_type": "code",
   "execution_count": 17,
   "id": "75d37a4d",
   "metadata": {
    "hidden": true
   },
   "outputs": [
    {
     "name": "stdout",
     "output_type": "stream",
     "text": [
      "2012-11-09T22:28:15+00:00\n",
      "\n"
     ]
    }
   ],
   "source": [
    "# Extract the value of 'start' in 'timeframe'\n",
    "dict_timeframe_start = ds.buildings[1].metadata['timeframe']['start']\n",
    "print(dict_timeframe_start)\n",
    "print(\"\")"
   ]
  },
  {
   "cell_type": "markdown",
   "id": "5dc7531e",
   "metadata": {
    "heading_collapsed": true,
    "hidden": true
   },
   "source": [
    "#### Extract specified key - rooms"
   ]
  },
  {
   "cell_type": "code",
   "execution_count": 18,
   "id": "baf8a66c",
   "metadata": {
    "hidden": true
   },
   "outputs": [
    {
     "data": {
      "text/plain": [
       "[{'name': 'lounge', 'floor': 0},\n",
       " {'instance': 1, 'name': 'hall', 'floor': 0},\n",
       " {'instance': 2, 'name': 'hall', 'floor': 1},\n",
       " {'name': 'kitchen', 'floor': 0},\n",
       " {'name': 'utility', 'floor': 0},\n",
       " {'name': 'dining room', 'floor': 0},\n",
       " {'instance': 1,\n",
       "  'floor': 1,\n",
       "  'description': 'master bedroom',\n",
       "  'name': 'bedroom'},\n",
       " {'instance': 2,\n",
       "  'floor': 1,\n",
       "  'description': \"kid's bedroom\",\n",
       "  'name': 'bedroom'},\n",
       " {'instance': 1,\n",
       "  'floor': 1,\n",
       "  'description': 'occasionally used as a spare bedroom ',\n",
       "  'name': 'study'},\n",
       " {'instance': 1,\n",
       "  'floor': 1,\n",
       "  'description': 'shower + bath + toilet + sink + cupboards + hot water tank + boiler + solar thermal pumping station',\n",
       "  'name': 'bathroom'}]"
      ]
     },
     "execution_count": 18,
     "metadata": {},
     "output_type": "execute_result"
    }
   ],
   "source": [
    "mybuilding.metadata['rooms']"
   ]
  },
  {
   "cell_type": "code",
   "execution_count": 19,
   "id": "2f1aa607",
   "metadata": {
    "hidden": true
   },
   "outputs": [
    {
     "data": {
      "text/plain": [
       "{'instance': 1, 'name': 'hall', 'floor': 0}"
      ]
     },
     "execution_count": 19,
     "metadata": {},
     "output_type": "execute_result"
    }
   ],
   "source": [
    "mybuilding.metadata['rooms'][1]"
   ]
  },
  {
   "cell_type": "markdown",
   "id": "f1496924",
   "metadata": {
    "heading_collapsed": true,
    "hidden": true
   },
   "source": [
    "### Building identifies"
   ]
  },
  {
   "cell_type": "code",
   "execution_count": 20,
   "id": "ed8dd2ac",
   "metadata": {
    "hidden": true
   },
   "outputs": [
    {
     "data": {
      "text/plain": [
       "BuildingID(instance=1, dataset='UK-DALE')"
      ]
     },
     "execution_count": 20,
     "metadata": {},
     "output_type": "execute_result"
    }
   ],
   "source": [
    "mybuilding.identifier"
   ]
  },
  {
   "cell_type": "code",
   "execution_count": 21,
   "id": "8784c285",
   "metadata": {
    "hidden": true
   },
   "outputs": [
    {
     "data": {
      "text/plain": [
       "nilmtk.building.BuildingID"
      ]
     },
     "execution_count": 21,
     "metadata": {},
     "output_type": "execute_result"
    }
   ],
   "source": [
    "type(mybuilding.identifier)"
   ]
  },
  {
   "cell_type": "markdown",
   "id": "94e361bc",
   "metadata": {
    "heading_collapsed": true,
    "hidden": true
   },
   "source": [
    "### Show buidling metadata"
   ]
  },
  {
   "cell_type": "code",
   "execution_count": 22,
   "id": "0f29c96c",
   "metadata": {
    "hidden": true
   },
   "outputs": [
    {
     "data": {
      "text/plain": [
       "{'description': 'Some individual appliance meters are switched off from the socket for significant portions of time.  These include (using original names): laptop, kettle, toaster, lcd_office, hifi_office, livingroom_s_lamp, soldering_iron, gigE_&_USBhub, hoover, iPad_charger, utilityrm_lamp, hair_dryer, straighteners, iron, childs_ds_lamp, office_lamp3, office_pc, gigE_switch',\n",
       " 'description_of_occupants': '2 adults and 1 dog started living in the house in 2006 (i.e. before the dataset started recording).  One child born 2011-08-27 and a second child born 2014-04-27.',\n",
       " 'original_name': 'house_1',\n",
       " 'heating': ['natural gas'],\n",
       " 'instance': 1,\n",
       " 'building_type': 'end of terrace',\n",
       " 'energy_improvements': ['solar thermal',\n",
       "  'loft insulation',\n",
       "  'solid wall insulation',\n",
       "  'double glazing'],\n",
       " 'rooms': [{'name': 'lounge', 'floor': 0},\n",
       "  {'instance': 1, 'name': 'hall', 'floor': 0},\n",
       "  {'instance': 2, 'name': 'hall', 'floor': 1},\n",
       "  {'name': 'kitchen', 'floor': 0},\n",
       "  {'name': 'utility', 'floor': 0},\n",
       "  {'name': 'dining room', 'floor': 0},\n",
       "  {'instance': 1,\n",
       "   'floor': 1,\n",
       "   'description': 'master bedroom',\n",
       "   'name': 'bedroom'},\n",
       "  {'instance': 2,\n",
       "   'floor': 1,\n",
       "   'description': \"kid's bedroom\",\n",
       "   'name': 'bedroom'},\n",
       "  {'instance': 1,\n",
       "   'floor': 1,\n",
       "   'description': 'occasionally used as a spare bedroom ',\n",
       "   'name': 'study'},\n",
       "  {'instance': 1,\n",
       "   'floor': 1,\n",
       "   'description': 'shower + bath + toilet + sink + cupboards + hot water tank + boiler + solar thermal pumping station',\n",
       "   'name': 'bathroom'}],\n",
       " 'ownership': 'bought',\n",
       " 'timeframe': {'start': '2012-11-09T22:28:15+00:00',\n",
       "  'end': '2017-04-26T18:35:53+01:00'},\n",
       " 'construction_year': 1905,\n",
       " 'n_occupants': 4,\n",
       " 'dataset': 'UK-DALE'}"
      ]
     },
     "execution_count": 22,
     "metadata": {},
     "output_type": "execute_result"
    }
   ],
   "source": [
    "mybuilding.metadata"
   ]
  },
  {
   "cell_type": "markdown",
   "id": "dee0b2a4",
   "metadata": {},
   "source": [
    "# Quick view of Building.MeterGroup\n",
    "\n",
    "To access the building metergroup from Dataset class. It uses to formulate the group of appliances, and form it metergroup.  Also, it shows various detail appliances in the building or house in \"nilmtk.metergroup.MeterGroup\""
   ]
  },
  {
   "cell_type": "code",
   "execution_count": 23,
   "id": "97bfcc87",
   "metadata": {},
   "outputs": [
    {
     "data": {
      "text/plain": [
       "nilmtk.metergroup.MeterGroup"
      ]
     },
     "execution_count": 23,
     "metadata": {},
     "output_type": "execute_result"
    }
   ],
   "source": [
    "house_data = ds.buildings[1].elec\n",
    "\n",
    "type(house_data)"
   ]
  },
  {
   "cell_type": "code",
   "execution_count": 24,
   "id": "49733641",
   "metadata": {},
   "outputs": [
    {
     "data": {
      "text/plain": [
       "MeterGroup(meters=\n",
       "  ElecMeter(instance=2, building=1, dataset='UK-DALE', appliances=[Appliance(type='boiler', instance=1)])\n",
       "  ElecMeter(instance=3, building=1, dataset='UK-DALE', appliances=[Appliance(type='solar thermal pumping station', instance=1)])\n",
       "  ElecMeter(instance=4, building=1, dataset='UK-DALE', appliances=[Appliance(type='laptop computer', instance=1), Appliance(type='laptop computer', instance=3)])\n",
       "  ElecMeter(instance=5, building=1, dataset='UK-DALE', appliances=[Appliance(type='washer dryer', instance=1), Appliance(type='washer dryer', instance=2)])\n",
       "  ElecMeter(instance=6, building=1, dataset='UK-DALE', appliances=[Appliance(type='dish washer', instance=1)])\n",
       "  ElecMeter(instance=7, building=1, dataset='UK-DALE', appliances=[Appliance(type='television', instance=1)])\n",
       "  ElecMeter(instance=8, building=1, dataset='UK-DALE', appliances=[Appliance(type='light', instance=1), Appliance(type='light', instance=2)])\n",
       "  ElecMeter(instance=9, building=1, dataset='UK-DALE', appliances=[Appliance(type='HTPC', instance=1)])\n",
       "  ElecMeter(instance=10, building=1, dataset='UK-DALE', appliances=[Appliance(type='kettle', instance=1), Appliance(type='food processor', instance=1), Appliance(type='toasted sandwich maker', instance=1)])\n",
       "  ElecMeter(instance=11, building=1, dataset='UK-DALE', appliances=[Appliance(type='toaster', instance=1), Appliance(type='kitchen aid', instance=1), Appliance(type='food processor', instance=2)])\n",
       "  ElecMeter(instance=12, building=1, dataset='UK-DALE', appliances=[Appliance(type='fridge freezer', instance=1)])\n",
       "  ElecMeter(instance=13, building=1, dataset='UK-DALE', appliances=[Appliance(type='microwave', instance=1)])\n",
       "  ElecMeter(instance=14, building=1, dataset='UK-DALE', appliances=[Appliance(type='computer monitor', instance=1)])\n",
       "  ElecMeter(instance=15, building=1, dataset='UK-DALE', appliances=[Appliance(type='audio system', instance=1)])\n",
       "  ElecMeter(instance=16, building=1, dataset='UK-DALE', appliances=[Appliance(type='breadmaker', instance=1)])\n",
       "  ElecMeter(instance=17, building=1, dataset='UK-DALE', appliances=[Appliance(type='audio amplifier', instance=1)])\n",
       "  ElecMeter(instance=18, building=1, dataset='UK-DALE', appliances=[Appliance(type='broadband router', instance=1), Appliance(type='broadband router', instance=2)])\n",
       "  ElecMeter(instance=19, building=1, dataset='UK-DALE', appliances=[Appliance(type='light', instance=3), Appliance(type='bouncy castle pump', instance=1)])\n",
       "  ElecMeter(instance=20, building=1, dataset='UK-DALE', appliances=[Appliance(type='soldering iron', instance=1)])\n",
       "  ElecMeter(instance=21, building=1, dataset='UK-DALE', appliances=[Appliance(type='ethernet switch', instance=1), Appliance(type='USB hub', instance=1)])\n",
       "  ElecMeter(instance=22, building=1, dataset='UK-DALE', appliances=[Appliance(type='vacuum cleaner', instance=1)])\n",
       "  ElecMeter(instance=23, building=1, dataset='UK-DALE', appliances=[Appliance(type='light', instance=4)])\n",
       "  ElecMeter(instance=24, building=1, dataset='UK-DALE', appliances=[Appliance(type='light', instance=5)])\n",
       "  ElecMeter(instance=25, building=1, dataset='UK-DALE', appliances=[Appliance(type='light', instance=16)])\n",
       "  ElecMeter(instance=26, building=1, dataset='UK-DALE', appliances=[Appliance(type='light', instance=6)])\n",
       "  ElecMeter(instance=27, building=1, dataset='UK-DALE', appliances=[Appliance(type='tablet computer charger', instance=1)])\n",
       "  ElecMeter(instance=28, building=1, dataset='UK-DALE', appliances=[Appliance(type='active subwoofer', instance=1)])\n",
       "  ElecMeter(instance=29, building=1, dataset='UK-DALE', appliances=[Appliance(type='light', instance=7)])\n",
       "  ElecMeter(instance=30, building=1, dataset='UK-DALE', appliances=[Appliance(type='radio', instance=1)])\n",
       "  ElecMeter(instance=31, building=1, dataset='UK-DALE', appliances=[Appliance(type='light', instance=8)])\n",
       "  ElecMeter(instance=32, building=1, dataset='UK-DALE', appliances=[Appliance(type='wireless phone charger', instance=1), Appliance(type='audio system', instance=2)])\n",
       "  ElecMeter(instance=33, building=1, dataset='UK-DALE', appliances=[Appliance(type='light', instance=9)])\n",
       "  ElecMeter(instance=34, building=1, dataset='UK-DALE', appliances=[Appliance(type='mobile phone charger', instance=1)])\n",
       "  ElecMeter(instance=35, building=1, dataset='UK-DALE', appliances=[Appliance(type='light', instance=10)])\n",
       "  ElecMeter(instance=36, building=1, dataset='UK-DALE', appliances=[Appliance(type='coffee maker', instance=1)])\n",
       "  ElecMeter(instance=37, building=1, dataset='UK-DALE', appliances=[Appliance(type='radio', instance=2)])\n",
       "  ElecMeter(instance=38, building=1, dataset='UK-DALE', appliances=[Appliance(type='mobile phone charger', instance=2), Appliance(type='baby monitor', instance=2), Appliance(type='radio', instance=3)])\n",
       "  ElecMeter(instance=39, building=1, dataset='UK-DALE', appliances=[Appliance(type='hair dryer', instance=1)])\n",
       "  ElecMeter(instance=40, building=1, dataset='UK-DALE', appliances=[Appliance(type='hair straighteners', instance=1)])\n",
       "  ElecMeter(instance=41, building=1, dataset='UK-DALE', appliances=[Appliance(type='clothes iron', instance=1)])\n",
       "  ElecMeter(instance=42, building=1, dataset='UK-DALE', appliances=[Appliance(type='oven', instance=1)])\n",
       "  ElecMeter(instance=43, building=1, dataset='UK-DALE', appliances=[Appliance(type='computer', instance=1), Appliance(type='external hard disk', instance=1)])\n",
       "  ElecMeter(instance=44, building=1, dataset='UK-DALE', appliances=[Appliance(type='light', instance=11)])\n",
       "  ElecMeter(instance=45, building=1, dataset='UK-DALE', appliances=[Appliance(type='light', instance=12)])\n",
       "  ElecMeter(instance=46, building=1, dataset='UK-DALE', appliances=[Appliance(type='baby monitor', instance=1)])\n",
       "  ElecMeter(instance=47, building=1, dataset='UK-DALE', appliances=[Appliance(type='charger', instance=1)])\n",
       "  ElecMeter(instance=48, building=1, dataset='UK-DALE', appliances=[Appliance(type='light', instance=13)])\n",
       "  ElecMeter(instance=49, building=1, dataset='UK-DALE', appliances=[Appliance(type='light', instance=14)])\n",
       "  ElecMeter(instance=50, building=1, dataset='UK-DALE', appliances=[Appliance(type='light', instance=15)])\n",
       "  ElecMeter(instance=51, building=1, dataset='UK-DALE', appliances=[Appliance(type='desktop computer', instance=1)])\n",
       "  ElecMeter(instance=52, building=1, dataset='UK-DALE', appliances=[Appliance(type='fan', instance=1)])\n",
       "  ElecMeter(instance=53, building=1, dataset='UK-DALE', appliances=[Appliance(type='printer', instance=1)])\n",
       "  ElecMeter(instance=54, building=1, dataset='UK-DALE', site_meter, appliances=[Appliance(type='immersion heater', instance=1), Appliance(type='water pump', instance=1), Appliance(type='security alarm', instance=1), Appliance(type='fan', instance=2), Appliance(type='drill', instance=1), Appliance(type='laptop computer', instance=2)])\n",
       ")"
      ]
     },
     "execution_count": 24,
     "metadata": {},
     "output_type": "execute_result"
    }
   ],
   "source": [
    "# Each building has an elec attribute which is a MeterGroup object (much more about those soon!)\n",
    "\n",
    "house_data"
   ]
  },
  {
   "cell_type": "code",
   "execution_count": 25,
   "id": "3b5cda6d",
   "metadata": {},
   "outputs": [
    {
     "name": "stdout",
     "output_type": "stream",
     "text": [
      "Appliance(type='television', instance=1)\n",
      "Appliance(type='vacuum cleaner', instance=1)\n",
      "Appliance(type='light', instance=3)\n",
      "Appliance(type='radio', instance=1)\n",
      "Appliance(type='computer', instance=1)\n",
      "Appliance(type='mobile phone charger', instance=2)\n",
      "Appliance(type='laptop computer', instance=2)\n",
      "Appliance(type='ethernet switch', instance=1)\n",
      "Appliance(type='light', instance=14)\n",
      "Appliance(type='light', instance=7)\n",
      "Appliance(type='immersion heater', instance=1)\n",
      "Appliance(type='USB hub', instance=1)\n",
      "Appliance(type='fan', instance=1)\n",
      "Appliance(type='toasted sandwich maker', instance=1)\n",
      "Appliance(type='kettle', instance=1)\n",
      "Appliance(type='computer monitor', instance=1)\n",
      "Appliance(type='light', instance=11)\n",
      "Appliance(type='security alarm', instance=1)\n",
      "Appliance(type='radio', instance=2)\n",
      "Appliance(type='food processor', instance=1)\n",
      "Appliance(type='microwave', instance=1)\n",
      "Appliance(type='fridge freezer', instance=1)\n",
      "Appliance(type='baby monitor', instance=1)\n",
      "Appliance(type='light', instance=15)\n",
      "Appliance(type='dish washer', instance=1)\n",
      "Appliance(type='toaster', instance=1)\n",
      "Appliance(type='light', instance=4)\n",
      "Appliance(type='wireless phone charger', instance=1)\n",
      "Appliance(type='laptop computer', instance=1)\n",
      "Appliance(type='boiler', instance=1)\n",
      "Appliance(type='printer', instance=1)\n",
      "Appliance(type='breadmaker', instance=1)\n",
      "Appliance(type='broadband router', instance=2)\n",
      "Appliance(type='active subwoofer', instance=1)\n",
      "Appliance(type='light', instance=8)\n",
      "Appliance(type='audio system', instance=1)\n",
      "Appliance(type='light', instance=1)\n",
      "Appliance(type='radio', instance=3)\n",
      "Appliance(type='fan', instance=2)\n",
      "Appliance(type='clothes iron', instance=1)\n",
      "Appliance(type='bouncy castle pump', instance=1)\n",
      "Appliance(type='audio amplifier', instance=1)\n",
      "Appliance(type='soldering iron', instance=1)\n",
      "Appliance(type='light', instance=12)\n",
      "Appliance(type='washer dryer', instance=1)\n",
      "Appliance(type='food processor', instance=2)\n",
      "Appliance(type='light', instance=5)\n",
      "Appliance(type='desktop computer', instance=1)\n",
      "Appliance(type='external hard disk', instance=1)\n",
      "Appliance(type='coffee maker', instance=1)\n",
      "Appliance(type='solar thermal pumping station', instance=1)\n",
      "Appliance(type='light', instance=16)\n",
      "Appliance(type='kitchen aid', instance=1)\n",
      "Appliance(type='charger', instance=1)\n",
      "Appliance(type='light', instance=9)\n",
      "Appliance(type='HTPC', instance=1)\n",
      "Appliance(type='broadband router', instance=1)\n",
      "Appliance(type='tablet computer charger', instance=1)\n",
      "Appliance(type='mobile phone charger', instance=1)\n",
      "Appliance(type='hair straighteners', instance=1)\n",
      "Appliance(type='light', instance=13)\n",
      "Appliance(type='audio system', instance=2)\n",
      "Appliance(type='light', instance=2)\n",
      "Appliance(type='laptop computer', instance=3)\n",
      "Appliance(type='washer dryer', instance=2)\n",
      "Appliance(type='light', instance=6)\n",
      "Appliance(type='oven', instance=1)\n",
      "Appliance(type='drill', instance=1)\n",
      "Appliance(type='water pump', instance=1)\n",
      "Appliance(type='hair dryer', instance=1)\n",
      "Appliance(type='baby monitor', instance=2)\n",
      "Appliance(type='light', instance=10)\n"
     ]
    }
   ],
   "source": [
    "for item in house_data.appliances:\n",
    "    print(item)"
   ]
  },
  {
   "cell_type": "code",
   "execution_count": 26,
   "id": "abe37e46",
   "metadata": {},
   "outputs": [
    {
     "data": {
      "text/plain": [
       "Appliance(type='television', instance=1)"
      ]
     },
     "execution_count": 26,
     "metadata": {},
     "output_type": "execute_result"
    }
   ],
   "source": [
    "ds.buildings[1].elec.appliances[0]"
   ]
  },
  {
   "cell_type": "code",
   "execution_count": 27,
   "id": "c885f5ac",
   "metadata": {},
   "outputs": [],
   "source": [
    "house = ds.buildings[1].elec"
   ]
  },
  {
   "cell_type": "code",
   "execution_count": 28,
   "id": "208954ca",
   "metadata": {},
   "outputs": [
    {
     "data": {
      "text/plain": [
       "MeterGroup(meters=\n",
       "  ElecMeter(instance=8, building=1, dataset='UK-DALE', appliances=[Appliance(type='light', instance=1), Appliance(type='light', instance=2)])\n",
       "  ElecMeter(instance=19, building=1, dataset='UK-DALE', appliances=[Appliance(type='light', instance=3), Appliance(type='bouncy castle pump', instance=1)])\n",
       "  ElecMeter(instance=23, building=1, dataset='UK-DALE', appliances=[Appliance(type='light', instance=4)])\n",
       "  ElecMeter(instance=24, building=1, dataset='UK-DALE', appliances=[Appliance(type='light', instance=5)])\n",
       "  ElecMeter(instance=25, building=1, dataset='UK-DALE', appliances=[Appliance(type='light', instance=16)])\n",
       "  ElecMeter(instance=26, building=1, dataset='UK-DALE', appliances=[Appliance(type='light', instance=6)])\n",
       "  ElecMeter(instance=29, building=1, dataset='UK-DALE', appliances=[Appliance(type='light', instance=7)])\n",
       "  ElecMeter(instance=31, building=1, dataset='UK-DALE', appliances=[Appliance(type='light', instance=8)])\n",
       "  ElecMeter(instance=33, building=1, dataset='UK-DALE', appliances=[Appliance(type='light', instance=9)])\n",
       "  ElecMeter(instance=35, building=1, dataset='UK-DALE', appliances=[Appliance(type='light', instance=10)])\n",
       "  ElecMeter(instance=44, building=1, dataset='UK-DALE', appliances=[Appliance(type='light', instance=11)])\n",
       "  ElecMeter(instance=45, building=1, dataset='UK-DALE', appliances=[Appliance(type='light', instance=12)])\n",
       "  ElecMeter(instance=48, building=1, dataset='UK-DALE', appliances=[Appliance(type='light', instance=13)])\n",
       "  ElecMeter(instance=49, building=1, dataset='UK-DALE', appliances=[Appliance(type='light', instance=14)])\n",
       "  ElecMeter(instance=50, building=1, dataset='UK-DALE', appliances=[Appliance(type='light', instance=15)])\n",
       "  ElecMeter(instance=10, building=1, dataset='UK-DALE', appliances=[Appliance(type='kettle', instance=1), Appliance(type='food processor', instance=1), Appliance(type='toasted sandwich maker', instance=1)])\n",
       "  ElecMeter(instance=11, building=1, dataset='UK-DALE', appliances=[Appliance(type='toaster', instance=1), Appliance(type='kitchen aid', instance=1), Appliance(type='food processor', instance=2)])\n",
       ")"
      ]
     },
     "execution_count": 28,
     "metadata": {},
     "output_type": "execute_result"
    }
   ],
   "source": [
    "house.select_using_appliances(type=['light', 'kettle', 'toaster'])"
   ]
  },
  {
   "cell_type": "code",
   "execution_count": 29,
   "id": "7e523b9e",
   "metadata": {},
   "outputs": [
    {
     "data": {
      "text/plain": [
       "MeterGroup(meters=\n",
       "  ElecMeter(instance=2, building=1, dataset='UK-DALE', appliances=[Appliance(type='boiler', instance=1)])\n",
       "  ElecMeter(instance=3, building=1, dataset='UK-DALE', appliances=[Appliance(type='solar thermal pumping station', instance=1)])\n",
       "  ElecMeter(instance=54, building=1, dataset='UK-DALE', site_meter, appliances=[Appliance(type='immersion heater', instance=1), Appliance(type='water pump', instance=1), Appliance(type='security alarm', instance=1), Appliance(type='fan', instance=2), Appliance(type='drill', instance=1), Appliance(type='laptop computer', instance=2)])\n",
       ")"
      ]
     },
     "execution_count": 29,
     "metadata": {},
     "output_type": "execute_result"
    }
   ],
   "source": [
    "house.select_using_appliances(room='bathroom')"
   ]
  },
  {
   "cell_type": "code",
   "execution_count": 30,
   "id": "e4bc6dee",
   "metadata": {},
   "outputs": [
    {
     "data": {
      "text/plain": [
       "MeterGroup(meters=\n",
       "  ElecMeter(instance=8, building=1, dataset='UK-DALE', appliances=[Appliance(type='light', instance=1), Appliance(type='light', instance=2)])\n",
       "  ElecMeter(instance=19, building=1, dataset='UK-DALE', appliances=[Appliance(type='light', instance=3), Appliance(type='bouncy castle pump', instance=1)])\n",
       "  ElecMeter(instance=23, building=1, dataset='UK-DALE', appliances=[Appliance(type='light', instance=4)])\n",
       "  ElecMeter(instance=24, building=1, dataset='UK-DALE', appliances=[Appliance(type='light', instance=5)])\n",
       "  ElecMeter(instance=25, building=1, dataset='UK-DALE', appliances=[Appliance(type='light', instance=16)])\n",
       "  ElecMeter(instance=26, building=1, dataset='UK-DALE', appliances=[Appliance(type='light', instance=6)])\n",
       "  ElecMeter(instance=29, building=1, dataset='UK-DALE', appliances=[Appliance(type='light', instance=7)])\n",
       "  ElecMeter(instance=31, building=1, dataset='UK-DALE', appliances=[Appliance(type='light', instance=8)])\n",
       "  ElecMeter(instance=33, building=1, dataset='UK-DALE', appliances=[Appliance(type='light', instance=9)])\n",
       "  ElecMeter(instance=35, building=1, dataset='UK-DALE', appliances=[Appliance(type='light', instance=10)])\n",
       "  ElecMeter(instance=44, building=1, dataset='UK-DALE', appliances=[Appliance(type='light', instance=11)])\n",
       "  ElecMeter(instance=45, building=1, dataset='UK-DALE', appliances=[Appliance(type='light', instance=12)])\n",
       "  ElecMeter(instance=48, building=1, dataset='UK-DALE', appliances=[Appliance(type='light', instance=13)])\n",
       "  ElecMeter(instance=49, building=1, dataset='UK-DALE', appliances=[Appliance(type='light', instance=14)])\n",
       "  ElecMeter(instance=50, building=1, dataset='UK-DALE', appliances=[Appliance(type='light', instance=15)])\n",
       ")"
      ]
     },
     "execution_count": 30,
     "metadata": {},
     "output_type": "execute_result"
    }
   ],
   "source": [
    "house.select_using_appliances(category='lighting')"
   ]
  },
  {
   "cell_type": "code",
   "execution_count": 31,
   "id": "55ce9dbf",
   "metadata": {},
   "outputs": [
    {
     "name": "stdout",
     "output_type": "stream",
     "text": [
      "<class 'nilmtk.metergroup.MeterGroup'>\n"
     ]
    }
   ],
   "source": [
    "print(type(ds.buildings[1].elec))"
   ]
  },
  {
   "cell_type": "code",
   "execution_count": 32,
   "id": "245fbcef",
   "metadata": {},
   "outputs": [
    {
     "data": {
      "text/plain": [
       "ElecMeter(instance=11, building=1, dataset='UK-DALE', appliances=[Appliance(type='toaster', instance=1), Appliance(type='kitchen aid', instance=1), Appliance(type='food processor', instance=2)])"
      ]
     },
     "execution_count": 32,
     "metadata": {},
     "output_type": "execute_result"
    }
   ],
   "source": [
    "house.__getitem__('toaster')"
   ]
  },
  {
   "cell_type": "code",
   "execution_count": null,
   "id": "4a56e843",
   "metadata": {},
   "outputs": [],
   "source": []
  },
  {
   "cell_type": "code",
   "execution_count": null,
   "id": "0308d62c",
   "metadata": {},
   "outputs": [],
   "source": []
  },
  {
   "cell_type": "code",
   "execution_count": null,
   "id": "3a8ddccd",
   "metadata": {},
   "outputs": [],
   "source": []
  },
  {
   "cell_type": "markdown",
   "id": "bc63ab5d",
   "metadata": {},
   "source": [
    "# Workout & Findings\n",
    "\n",
    "After the completion this notebook, prepare a simple presentation slide to express your summary and new discovery information from here."
   ]
  },
  {
   "cell_type": "code",
   "execution_count": 33,
   "id": "0c203c74",
   "metadata": {},
   "outputs": [
    {
     "data": {
      "text/plain": [
       "OrderedDict([(1, Building(instance=1, dataset='UK-DALE')),\n",
       "             (2, Building(instance=2, dataset='UK-DALE')),\n",
       "             (3, Building(instance=3, dataset='UK-DALE')),\n",
       "             (4, Building(instance=4, dataset='UK-DALE')),\n",
       "             (5, Building(instance=5, dataset='UK-DALE'))])"
      ]
     },
     "execution_count": 33,
     "metadata": {},
     "output_type": "execute_result"
    }
   ],
   "source": [
    "#Find the total buildings\n",
    "ds.buildings\n",
    "\n"
   ]
  },
  {
   "cell_type": "code",
   "execution_count": 34,
   "id": "2929aac3",
   "metadata": {},
   "outputs": [
    {
     "name": "stdout",
     "output_type": "stream",
     "text": [
      "<class 'nilmtk.metergroup.MeterGroup'>\n"
     ]
    }
   ],
   "source": [
    "#elec is the attribute in Dataset class\n",
    "house=ds.buildings[1].elec\n",
    "#Find which house class of object house belongs\n",
    "print(type(house))"
   ]
  },
  {
   "cell_type": "code",
   "execution_count": 35,
   "id": "97696c81",
   "metadata": {},
   "outputs": [
    {
     "data": {
      "text/plain": [
       "[ElecMeter(instance=2, building=1, dataset='UK-DALE', appliances=[Appliance(type='boiler', instance=1)]),\n",
       " ElecMeter(instance=3, building=1, dataset='UK-DALE', appliances=[Appliance(type='solar thermal pumping station', instance=1)]),\n",
       " ElecMeter(instance=4, building=1, dataset='UK-DALE', appliances=[Appliance(type='laptop computer', instance=1), Appliance(type='laptop computer', instance=3)]),\n",
       " ElecMeter(instance=5, building=1, dataset='UK-DALE', appliances=[Appliance(type='washer dryer', instance=1), Appliance(type='washer dryer', instance=2)]),\n",
       " ElecMeter(instance=6, building=1, dataset='UK-DALE', appliances=[Appliance(type='dish washer', instance=1)]),\n",
       " ElecMeter(instance=7, building=1, dataset='UK-DALE', appliances=[Appliance(type='television', instance=1)]),\n",
       " ElecMeter(instance=8, building=1, dataset='UK-DALE', appliances=[Appliance(type='light', instance=1), Appliance(type='light', instance=2)]),\n",
       " ElecMeter(instance=9, building=1, dataset='UK-DALE', appliances=[Appliance(type='HTPC', instance=1)]),\n",
       " ElecMeter(instance=10, building=1, dataset='UK-DALE', appliances=[Appliance(type='kettle', instance=1), Appliance(type='food processor', instance=1), Appliance(type='toasted sandwich maker', instance=1)]),\n",
       " ElecMeter(instance=11, building=1, dataset='UK-DALE', appliances=[Appliance(type='toaster', instance=1), Appliance(type='kitchen aid', instance=1), Appliance(type='food processor', instance=2)]),\n",
       " ElecMeter(instance=12, building=1, dataset='UK-DALE', appliances=[Appliance(type='fridge freezer', instance=1)]),\n",
       " ElecMeter(instance=13, building=1, dataset='UK-DALE', appliances=[Appliance(type='microwave', instance=1)]),\n",
       " ElecMeter(instance=14, building=1, dataset='UK-DALE', appliances=[Appliance(type='computer monitor', instance=1)]),\n",
       " ElecMeter(instance=15, building=1, dataset='UK-DALE', appliances=[Appliance(type='audio system', instance=1)]),\n",
       " ElecMeter(instance=16, building=1, dataset='UK-DALE', appliances=[Appliance(type='breadmaker', instance=1)]),\n",
       " ElecMeter(instance=17, building=1, dataset='UK-DALE', appliances=[Appliance(type='audio amplifier', instance=1)]),\n",
       " ElecMeter(instance=18, building=1, dataset='UK-DALE', appliances=[Appliance(type='broadband router', instance=1), Appliance(type='broadband router', instance=2)]),\n",
       " ElecMeter(instance=19, building=1, dataset='UK-DALE', appliances=[Appliance(type='light', instance=3), Appliance(type='bouncy castle pump', instance=1)]),\n",
       " ElecMeter(instance=20, building=1, dataset='UK-DALE', appliances=[Appliance(type='soldering iron', instance=1)]),\n",
       " ElecMeter(instance=21, building=1, dataset='UK-DALE', appliances=[Appliance(type='ethernet switch', instance=1), Appliance(type='USB hub', instance=1)]),\n",
       " ElecMeter(instance=22, building=1, dataset='UK-DALE', appliances=[Appliance(type='vacuum cleaner', instance=1)]),\n",
       " ElecMeter(instance=23, building=1, dataset='UK-DALE', appliances=[Appliance(type='light', instance=4)]),\n",
       " ElecMeter(instance=24, building=1, dataset='UK-DALE', appliances=[Appliance(type='light', instance=5)]),\n",
       " ElecMeter(instance=25, building=1, dataset='UK-DALE', appliances=[Appliance(type='light', instance=16)]),\n",
       " ElecMeter(instance=26, building=1, dataset='UK-DALE', appliances=[Appliance(type='light', instance=6)]),\n",
       " ElecMeter(instance=27, building=1, dataset='UK-DALE', appliances=[Appliance(type='tablet computer charger', instance=1)]),\n",
       " ElecMeter(instance=28, building=1, dataset='UK-DALE', appliances=[Appliance(type='active subwoofer', instance=1)]),\n",
       " ElecMeter(instance=29, building=1, dataset='UK-DALE', appliances=[Appliance(type='light', instance=7)]),\n",
       " ElecMeter(instance=30, building=1, dataset='UK-DALE', appliances=[Appliance(type='radio', instance=1)]),\n",
       " ElecMeter(instance=31, building=1, dataset='UK-DALE', appliances=[Appliance(type='light', instance=8)]),\n",
       " ElecMeter(instance=32, building=1, dataset='UK-DALE', appliances=[Appliance(type='wireless phone charger', instance=1), Appliance(type='audio system', instance=2)]),\n",
       " ElecMeter(instance=33, building=1, dataset='UK-DALE', appliances=[Appliance(type='light', instance=9)]),\n",
       " ElecMeter(instance=34, building=1, dataset='UK-DALE', appliances=[Appliance(type='mobile phone charger', instance=1)]),\n",
       " ElecMeter(instance=35, building=1, dataset='UK-DALE', appliances=[Appliance(type='light', instance=10)]),\n",
       " ElecMeter(instance=36, building=1, dataset='UK-DALE', appliances=[Appliance(type='coffee maker', instance=1)]),\n",
       " ElecMeter(instance=37, building=1, dataset='UK-DALE', appliances=[Appliance(type='radio', instance=2)]),\n",
       " ElecMeter(instance=38, building=1, dataset='UK-DALE', appliances=[Appliance(type='mobile phone charger', instance=2), Appliance(type='baby monitor', instance=2), Appliance(type='radio', instance=3)]),\n",
       " ElecMeter(instance=39, building=1, dataset='UK-DALE', appliances=[Appliance(type='hair dryer', instance=1)]),\n",
       " ElecMeter(instance=40, building=1, dataset='UK-DALE', appliances=[Appliance(type='hair straighteners', instance=1)]),\n",
       " ElecMeter(instance=41, building=1, dataset='UK-DALE', appliances=[Appliance(type='clothes iron', instance=1)]),\n",
       " ElecMeter(instance=42, building=1, dataset='UK-DALE', appliances=[Appliance(type='oven', instance=1)]),\n",
       " ElecMeter(instance=43, building=1, dataset='UK-DALE', appliances=[Appliance(type='computer', instance=1), Appliance(type='external hard disk', instance=1)]),\n",
       " ElecMeter(instance=44, building=1, dataset='UK-DALE', appliances=[Appliance(type='light', instance=11)]),\n",
       " ElecMeter(instance=45, building=1, dataset='UK-DALE', appliances=[Appliance(type='light', instance=12)]),\n",
       " ElecMeter(instance=46, building=1, dataset='UK-DALE', appliances=[Appliance(type='baby monitor', instance=1)]),\n",
       " ElecMeter(instance=47, building=1, dataset='UK-DALE', appliances=[Appliance(type='charger', instance=1)]),\n",
       " ElecMeter(instance=48, building=1, dataset='UK-DALE', appliances=[Appliance(type='light', instance=13)]),\n",
       " ElecMeter(instance=49, building=1, dataset='UK-DALE', appliances=[Appliance(type='light', instance=14)]),\n",
       " ElecMeter(instance=50, building=1, dataset='UK-DALE', appliances=[Appliance(type='light', instance=15)]),\n",
       " ElecMeter(instance=51, building=1, dataset='UK-DALE', appliances=[Appliance(type='desktop computer', instance=1)]),\n",
       " ElecMeter(instance=52, building=1, dataset='UK-DALE', appliances=[Appliance(type='fan', instance=1)]),\n",
       " ElecMeter(instance=53, building=1, dataset='UK-DALE', appliances=[Appliance(type='printer', instance=1)]),\n",
       " ElecMeter(instance=54, building=1, dataset='UK-DALE', site_meter, appliances=[Appliance(type='immersion heater', instance=1), Appliance(type='water pump', instance=1), Appliance(type='security alarm', instance=1), Appliance(type='fan', instance=2), Appliance(type='drill', instance=1), Appliance(type='laptop computer', instance=2)])]"
      ]
     },
     "execution_count": 35,
     "metadata": {},
     "output_type": "execute_result"
    }
   ],
   "source": [
    "#call meters attributes in MeterGroup class\n",
    "house.meters"
   ]
  },
  {
   "cell_type": "code",
   "execution_count": 36,
   "id": "c012f99e",
   "metadata": {},
   "outputs": [
    {
     "data": {
      "text/plain": [
       "[ElecMeter(instance=1, building=1, dataset='UK-DALE', site_meter, appliances=[Appliance(type='immersion heater', instance=1), Appliance(type='water pump', instance=1), Appliance(type='security alarm', instance=1), Appliance(type='fan', instance=2), Appliance(type='drill', instance=1), Appliance(type='laptop computer', instance=2)])]"
      ]
     },
     "execution_count": 36,
     "metadata": {},
     "output_type": "execute_result"
    }
   ],
   "source": [
    "#call disabled_meters attribute in MeterGroup class\n",
    "house.disabled_meters"
   ]
  },
  {
   "cell_type": "code",
   "execution_count": 37,
   "id": "c97da0b2",
   "metadata": {},
   "outputs": [
    {
     "data": {
      "text/plain": [
       "<bound method MeterGroup.dominant_appliance of MeterGroup(meters=\n",
       "  ElecMeter(instance=2, building=1, dataset='UK-DALE', appliances=[Appliance(type='boiler', instance=1)])\n",
       "  ElecMeter(instance=3, building=1, dataset='UK-DALE', appliances=[Appliance(type='solar thermal pumping station', instance=1)])\n",
       "  ElecMeter(instance=4, building=1, dataset='UK-DALE', appliances=[Appliance(type='laptop computer', instance=1), Appliance(type='laptop computer', instance=3)])\n",
       "  ElecMeter(instance=5, building=1, dataset='UK-DALE', appliances=[Appliance(type='washer dryer', instance=1), Appliance(type='washer dryer', instance=2)])\n",
       "  ElecMeter(instance=6, building=1, dataset='UK-DALE', appliances=[Appliance(type='dish washer', instance=1)])\n",
       "  ElecMeter(instance=7, building=1, dataset='UK-DALE', appliances=[Appliance(type='television', instance=1)])\n",
       "  ElecMeter(instance=8, building=1, dataset='UK-DALE', appliances=[Appliance(type='light', instance=1), Appliance(type='light', instance=2)])\n",
       "  ElecMeter(instance=9, building=1, dataset='UK-DALE', appliances=[Appliance(type='HTPC', instance=1)])\n",
       "  ElecMeter(instance=10, building=1, dataset='UK-DALE', appliances=[Appliance(type='kettle', instance=1), Appliance(type='food processor', instance=1), Appliance(type='toasted sandwich maker', instance=1)])\n",
       "  ElecMeter(instance=11, building=1, dataset='UK-DALE', appliances=[Appliance(type='toaster', instance=1), Appliance(type='kitchen aid', instance=1), Appliance(type='food processor', instance=2)])\n",
       "  ElecMeter(instance=12, building=1, dataset='UK-DALE', appliances=[Appliance(type='fridge freezer', instance=1)])\n",
       "  ElecMeter(instance=13, building=1, dataset='UK-DALE', appliances=[Appliance(type='microwave', instance=1)])\n",
       "  ElecMeter(instance=14, building=1, dataset='UK-DALE', appliances=[Appliance(type='computer monitor', instance=1)])\n",
       "  ElecMeter(instance=15, building=1, dataset='UK-DALE', appliances=[Appliance(type='audio system', instance=1)])\n",
       "  ElecMeter(instance=16, building=1, dataset='UK-DALE', appliances=[Appliance(type='breadmaker', instance=1)])\n",
       "  ElecMeter(instance=17, building=1, dataset='UK-DALE', appliances=[Appliance(type='audio amplifier', instance=1)])\n",
       "  ElecMeter(instance=18, building=1, dataset='UK-DALE', appliances=[Appliance(type='broadband router', instance=1), Appliance(type='broadband router', instance=2)])\n",
       "  ElecMeter(instance=19, building=1, dataset='UK-DALE', appliances=[Appliance(type='light', instance=3), Appliance(type='bouncy castle pump', instance=1)])\n",
       "  ElecMeter(instance=20, building=1, dataset='UK-DALE', appliances=[Appliance(type='soldering iron', instance=1)])\n",
       "  ElecMeter(instance=21, building=1, dataset='UK-DALE', appliances=[Appliance(type='ethernet switch', instance=1), Appliance(type='USB hub', instance=1)])\n",
       "  ElecMeter(instance=22, building=1, dataset='UK-DALE', appliances=[Appliance(type='vacuum cleaner', instance=1)])\n",
       "  ElecMeter(instance=23, building=1, dataset='UK-DALE', appliances=[Appliance(type='light', instance=4)])\n",
       "  ElecMeter(instance=24, building=1, dataset='UK-DALE', appliances=[Appliance(type='light', instance=5)])\n",
       "  ElecMeter(instance=25, building=1, dataset='UK-DALE', appliances=[Appliance(type='light', instance=16)])\n",
       "  ElecMeter(instance=26, building=1, dataset='UK-DALE', appliances=[Appliance(type='light', instance=6)])\n",
       "  ElecMeter(instance=27, building=1, dataset='UK-DALE', appliances=[Appliance(type='tablet computer charger', instance=1)])\n",
       "  ElecMeter(instance=28, building=1, dataset='UK-DALE', appliances=[Appliance(type='active subwoofer', instance=1)])\n",
       "  ElecMeter(instance=29, building=1, dataset='UK-DALE', appliances=[Appliance(type='light', instance=7)])\n",
       "  ElecMeter(instance=30, building=1, dataset='UK-DALE', appliances=[Appliance(type='radio', instance=1)])\n",
       "  ElecMeter(instance=31, building=1, dataset='UK-DALE', appliances=[Appliance(type='light', instance=8)])\n",
       "  ElecMeter(instance=32, building=1, dataset='UK-DALE', appliances=[Appliance(type='wireless phone charger', instance=1), Appliance(type='audio system', instance=2)])\n",
       "  ElecMeter(instance=33, building=1, dataset='UK-DALE', appliances=[Appliance(type='light', instance=9)])\n",
       "  ElecMeter(instance=34, building=1, dataset='UK-DALE', appliances=[Appliance(type='mobile phone charger', instance=1)])\n",
       "  ElecMeter(instance=35, building=1, dataset='UK-DALE', appliances=[Appliance(type='light', instance=10)])\n",
       "  ElecMeter(instance=36, building=1, dataset='UK-DALE', appliances=[Appliance(type='coffee maker', instance=1)])\n",
       "  ElecMeter(instance=37, building=1, dataset='UK-DALE', appliances=[Appliance(type='radio', instance=2)])\n",
       "  ElecMeter(instance=38, building=1, dataset='UK-DALE', appliances=[Appliance(type='mobile phone charger', instance=2), Appliance(type='baby monitor', instance=2), Appliance(type='radio', instance=3)])\n",
       "  ElecMeter(instance=39, building=1, dataset='UK-DALE', appliances=[Appliance(type='hair dryer', instance=1)])\n",
       "  ElecMeter(instance=40, building=1, dataset='UK-DALE', appliances=[Appliance(type='hair straighteners', instance=1)])\n",
       "  ElecMeter(instance=41, building=1, dataset='UK-DALE', appliances=[Appliance(type='clothes iron', instance=1)])\n",
       "  ElecMeter(instance=42, building=1, dataset='UK-DALE', appliances=[Appliance(type='oven', instance=1)])\n",
       "  ElecMeter(instance=43, building=1, dataset='UK-DALE', appliances=[Appliance(type='computer', instance=1), Appliance(type='external hard disk', instance=1)])\n",
       "  ElecMeter(instance=44, building=1, dataset='UK-DALE', appliances=[Appliance(type='light', instance=11)])\n",
       "  ElecMeter(instance=45, building=1, dataset='UK-DALE', appliances=[Appliance(type='light', instance=12)])\n",
       "  ElecMeter(instance=46, building=1, dataset='UK-DALE', appliances=[Appliance(type='baby monitor', instance=1)])\n",
       "  ElecMeter(instance=47, building=1, dataset='UK-DALE', appliances=[Appliance(type='charger', instance=1)])\n",
       "  ElecMeter(instance=48, building=1, dataset='UK-DALE', appliances=[Appliance(type='light', instance=13)])\n",
       "  ElecMeter(instance=49, building=1, dataset='UK-DALE', appliances=[Appliance(type='light', instance=14)])\n",
       "  ElecMeter(instance=50, building=1, dataset='UK-DALE', appliances=[Appliance(type='light', instance=15)])\n",
       "  ElecMeter(instance=51, building=1, dataset='UK-DALE', appliances=[Appliance(type='desktop computer', instance=1)])\n",
       "  ElecMeter(instance=52, building=1, dataset='UK-DALE', appliances=[Appliance(type='fan', instance=1)])\n",
       "  ElecMeter(instance=53, building=1, dataset='UK-DALE', appliances=[Appliance(type='printer', instance=1)])\n",
       "  ElecMeter(instance=54, building=1, dataset='UK-DALE', site_meter, appliances=[Appliance(type='immersion heater', instance=1), Appliance(type='water pump', instance=1), Appliance(type='security alarm', instance=1), Appliance(type='fan', instance=2), Appliance(type='drill', instance=1), Appliance(type='laptop computer', instance=2)])\n",
       ")>"
      ]
     },
     "execution_count": 37,
     "metadata": {},
     "output_type": "execute_result"
    }
   ],
   "source": [
    "#call dominant_appliance attribute in MeterGroup class\n",
    "house.dominant_appliance"
   ]
  },
  {
   "cell_type": "code",
   "execution_count": 49,
   "id": "f5c4f78e",
   "metadata": {},
   "outputs": [
    {
     "data": {
      "text/plain": [
       "MeterGroup(meters=\n",
       "  ElecMeter(instance=54, building=1, dataset='UK-DALE', site_meter, appliances=[Appliance(type='immersion heater', instance=1), Appliance(type='water pump', instance=1), Appliance(type='security alarm', instance=1), Appliance(type='fan', instance=2), Appliance(type='drill', instance=1), Appliance(type='laptop computer', instance=2)])\n",
       ")"
      ]
     },
     "execution_count": 49,
     "metadata": {},
     "output_type": "execute_result"
    }
   ],
   "source": [
    "#select method \n",
    "#house.select(building=, sample_period=,instance=)\n",
    "\n",
    "#only sample_period=1 and 6 available\n",
    "house.select(sample_period=1)"
   ]
  },
  {
   "cell_type": "code",
   "execution_count": 48,
   "id": "1d7bf260",
   "metadata": {},
   "outputs": [
    {
     "data": {
      "text/plain": [
       "MeterGroup(meters=\n",
       "  ElecMeter(instance=2, building=1, dataset='UK-DALE', appliances=[Appliance(type='boiler', instance=1)])\n",
       ")"
      ]
     },
     "execution_count": 48,
     "metadata": {},
     "output_type": "execute_result"
    }
   ],
   "source": [
    "house.select(instance=2,sample_period=6)"
   ]
  },
  {
   "cell_type": "code",
   "execution_count": 76,
   "id": "0e555d17",
   "metadata": {},
   "outputs": [
    {
     "name": "stdout",
     "output_type": "stream",
     "text": [
      "<class 'list'>\n",
      "_____________________________________________________________________________________________________\n",
      "Number of Appliances\n",
      "72\n",
      "_____________________________________________________________________________________________________\n",
      "Appliance Metadata\n",
      "{'year_of_manufacture': 2001, 'room': 'lounge', 'instance': 1, 'original_name': 'tv', 'integrated_av_sources': ['analogue TV tuner'], 'meters': [7], 'components': [{'display_format': 'PAL', 'type': 'CRT screen', 'diagonal_size': 34}], 'on_power_threshold': 10, 'type': 'television', 'manufacturer': 'Panasonic', 'dataset': 'UK-DALE', 'building': 1}\n",
      "_____________________________________________________________________________________________________\n",
      "Appliance Label and Instance\n",
      "('television', 1)\n",
      "Appliance(type='television', instance=1)\n",
      "Appliance(type='radio', instance=1)\n"
     ]
    }
   ],
   "source": [
    "print(type(house.appliances))\n",
    "\n",
    "\n",
    "appliance=[]\n",
    "for item in house.appliances:\n",
    "    appliance.append(item)\n",
    "    \n",
    "print(\"_____________________________________________________________________________________________________\")\n",
    "#print(appliance)\n",
    "\n",
    "print(\"Number of Appliances\")\n",
    "print(len(appliance))\n",
    "    \n",
    "print(\"_____________________________________________________________________________________________________\")\n",
    "\n",
    "#Get Metadata for each appliance\n",
    "print(\"Appliance Metadata\")\n",
    "print(appliance[0].metadata)\n",
    "print(\"_____________________________________________________________________________________________________\")\n",
    "print(\"Appliance Label and Instance\")\n",
    "print(appliance[0].label())\n",
    "print(appliance[0])\n",
    "print(appliance[3])\n",
    "\n"
   ]
  },
  {
   "cell_type": "code",
   "execution_count": 43,
   "id": "a2c2db02",
   "metadata": {},
   "outputs": [
    {
     "data": {
      "text/plain": [
       "ElecMeter(instance=30, building=1, dataset='UK-DALE', appliances=[Appliance(type='radio', instance=1)])"
      ]
     },
     "execution_count": 43,
     "metadata": {},
     "output_type": "execute_result"
    }
   ],
   "source": [
    "#Get appliance details\n",
    "house.__getitem__(\"radio\")"
   ]
  },
  {
   "cell_type": "code",
   "execution_count": 53,
   "id": "6f78306d",
   "metadata": {},
   "outputs": [
    {
     "data": {
      "text/plain": [
       "ElecMeter(instance=8, building=1, dataset='UK-DALE', appliances=[Appliance(type='light', instance=1), Appliance(type='light', instance=2)])"
      ]
     },
     "execution_count": 53,
     "metadata": {},
     "output_type": "execute_result"
    }
   ],
   "source": [
    "house.__getitem__(\"light\")"
   ]
  },
  {
   "cell_type": "code",
   "execution_count": 109,
   "id": "43d74b74",
   "metadata": {},
   "outputs": [
    {
     "name": "stdout",
     "output_type": "stream",
     "text": [
      "['year_of_manufacture', 'room', 'instance', 'original_name', 'integrated_av_sources', 'meters', 'components', 'on_power_threshold', 'type', 'manufacturer', 'dataset', 'building']\n"
     ]
    }
   ],
   "source": [
    "#select_using_appliances method \n",
    "\n",
    "\"\"\"\n",
    "select_using_appliances method\n",
    "Select a group of meters based on appliance metadata.\n",
    "e.g. \n",
    "* select_using_appliances(category='lighting')\n",
    "* select_using_appliances(type='fridge')\n",
    "* select_using_appliances(type=['fridge', 'kettle', 'toaster'])\n",
    "* select_using_appliances(building=1, category='lighting')\n",
    "* select_using_appliances(room='bathroom')\n",
    "If multiple criteria are supplied then these are ANDed together.\n",
    "\"\"\"\n",
    "    \n",
    "    \n",
    "#print(appliance[0].metadata)\n",
    "\n",
    "\n",
    "l=[]\n",
    "\n",
    "appliance_metadata=appliance[0].metadata\n",
    "\n",
    "for k in (appliance_metadata):\n",
    "    l.append(k)\n",
    "\n",
    "print(l)"
   ]
  },
  {
   "cell_type": "code",
   "execution_count": 97,
   "id": "55022fe9",
   "metadata": {},
   "outputs": [
    {
     "name": "stdout",
     "output_type": "stream",
     "text": [
      "MeterGroup(meters=\n",
      "  ElecMeter(instance=12, building=1, dataset='UK-DALE', appliances=[Appliance(type='fridge freezer', instance=1)])\n",
      ")\n",
      "MeterGroup(meters=\n",
      "  ElecMeter(instance=7, building=1, dataset='UK-DALE', appliances=[Appliance(type='television', instance=1)])\n",
      ")\n"
     ]
    }
   ],
   "source": [
    "#Using the above metadata\n",
    "#select using type\n",
    "print(house.select_using_appliances(type='fridge'))\n",
    "print(house.select_using_appliances(type='television'))"
   ]
  },
  {
   "cell_type": "code",
   "execution_count": 79,
   "id": "a86df8d9",
   "metadata": {},
   "outputs": [
    {
     "data": {
      "text/plain": [
       "MeterGroup(meters=\n",
       "  ElecMeter(instance=7, building=1, dataset='UK-DALE', appliances=[Appliance(type='television', instance=1)])\n",
       "  ElecMeter(instance=9, building=1, dataset='UK-DALE', appliances=[Appliance(type='HTPC', instance=1)])\n",
       "  ElecMeter(instance=17, building=1, dataset='UK-DALE', appliances=[Appliance(type='audio amplifier', instance=1)])\n",
       "  ElecMeter(instance=19, building=1, dataset='UK-DALE', appliances=[Appliance(type='light', instance=3), Appliance(type='bouncy castle pump', instance=1)])\n",
       "  ElecMeter(instance=26, building=1, dataset='UK-DALE', appliances=[Appliance(type='light', instance=6)])\n",
       "  ElecMeter(instance=27, building=1, dataset='UK-DALE', appliances=[Appliance(type='tablet computer charger', instance=1)])\n",
       "  ElecMeter(instance=28, building=1, dataset='UK-DALE', appliances=[Appliance(type='active subwoofer', instance=1)])\n",
       "  ElecMeter(instance=29, building=1, dataset='UK-DALE', appliances=[Appliance(type='light', instance=7)])\n",
       "  ElecMeter(instance=30, building=1, dataset='UK-DALE', appliances=[Appliance(type='radio', instance=1)])\n",
       "  ElecMeter(instance=54, building=1, dataset='UK-DALE', site_meter, appliances=[Appliance(type='immersion heater', instance=1), Appliance(type='water pump', instance=1), Appliance(type='security alarm', instance=1), Appliance(type='fan', instance=2), Appliance(type='drill', instance=1), Appliance(type='laptop computer', instance=2)])\n",
       ")"
      ]
     },
     "execution_count": 79,
     "metadata": {},
     "output_type": "execute_result"
    }
   ],
   "source": [
    "#select using room\n",
    "house.select_using_appliances(room='lounge')"
   ]
  },
  {
   "cell_type": "code",
   "execution_count": 80,
   "id": "44cca019",
   "metadata": {},
   "outputs": [
    {
     "data": {
      "text/plain": [
       "MeterGroup(meters=\n",
       "  ElecMeter(instance=2, building=1, dataset='UK-DALE', appliances=[Appliance(type='boiler', instance=1)])\n",
       "  ElecMeter(instance=3, building=1, dataset='UK-DALE', appliances=[Appliance(type='solar thermal pumping station', instance=1)])\n",
       "  ElecMeter(instance=4, building=1, dataset='UK-DALE', appliances=[Appliance(type='laptop computer', instance=1), Appliance(type='laptop computer', instance=3)])\n",
       "  ElecMeter(instance=5, building=1, dataset='UK-DALE', appliances=[Appliance(type='washer dryer', instance=1), Appliance(type='washer dryer', instance=2)])\n",
       "  ElecMeter(instance=6, building=1, dataset='UK-DALE', appliances=[Appliance(type='dish washer', instance=1)])\n",
       "  ElecMeter(instance=7, building=1, dataset='UK-DALE', appliances=[Appliance(type='television', instance=1)])\n",
       "  ElecMeter(instance=8, building=1, dataset='UK-DALE', appliances=[Appliance(type='light', instance=1), Appliance(type='light', instance=2)])\n",
       "  ElecMeter(instance=9, building=1, dataset='UK-DALE', appliances=[Appliance(type='HTPC', instance=1)])\n",
       "  ElecMeter(instance=10, building=1, dataset='UK-DALE', appliances=[Appliance(type='kettle', instance=1), Appliance(type='food processor', instance=1), Appliance(type='toasted sandwich maker', instance=1)])\n",
       "  ElecMeter(instance=11, building=1, dataset='UK-DALE', appliances=[Appliance(type='toaster', instance=1), Appliance(type='kitchen aid', instance=1), Appliance(type='food processor', instance=2)])\n",
       "  ElecMeter(instance=12, building=1, dataset='UK-DALE', appliances=[Appliance(type='fridge freezer', instance=1)])\n",
       "  ElecMeter(instance=13, building=1, dataset='UK-DALE', appliances=[Appliance(type='microwave', instance=1)])\n",
       "  ElecMeter(instance=14, building=1, dataset='UK-DALE', appliances=[Appliance(type='computer monitor', instance=1)])\n",
       "  ElecMeter(instance=15, building=1, dataset='UK-DALE', appliances=[Appliance(type='audio system', instance=1)])\n",
       "  ElecMeter(instance=16, building=1, dataset='UK-DALE', appliances=[Appliance(type='breadmaker', instance=1)])\n",
       "  ElecMeter(instance=17, building=1, dataset='UK-DALE', appliances=[Appliance(type='audio amplifier', instance=1)])\n",
       "  ElecMeter(instance=18, building=1, dataset='UK-DALE', appliances=[Appliance(type='broadband router', instance=1), Appliance(type='broadband router', instance=2)])\n",
       "  ElecMeter(instance=19, building=1, dataset='UK-DALE', appliances=[Appliance(type='light', instance=3), Appliance(type='bouncy castle pump', instance=1)])\n",
       "  ElecMeter(instance=20, building=1, dataset='UK-DALE', appliances=[Appliance(type='soldering iron', instance=1)])\n",
       "  ElecMeter(instance=21, building=1, dataset='UK-DALE', appliances=[Appliance(type='ethernet switch', instance=1), Appliance(type='USB hub', instance=1)])\n",
       "  ElecMeter(instance=22, building=1, dataset='UK-DALE', appliances=[Appliance(type='vacuum cleaner', instance=1)])\n",
       "  ElecMeter(instance=27, building=1, dataset='UK-DALE', appliances=[Appliance(type='tablet computer charger', instance=1)])\n",
       "  ElecMeter(instance=28, building=1, dataset='UK-DALE', appliances=[Appliance(type='active subwoofer', instance=1)])\n",
       "  ElecMeter(instance=30, building=1, dataset='UK-DALE', appliances=[Appliance(type='radio', instance=1)])\n",
       "  ElecMeter(instance=32, building=1, dataset='UK-DALE', appliances=[Appliance(type='wireless phone charger', instance=1), Appliance(type='audio system', instance=2)])\n",
       "  ElecMeter(instance=34, building=1, dataset='UK-DALE', appliances=[Appliance(type='mobile phone charger', instance=1)])\n",
       "  ElecMeter(instance=36, building=1, dataset='UK-DALE', appliances=[Appliance(type='coffee maker', instance=1)])\n",
       "  ElecMeter(instance=39, building=1, dataset='UK-DALE', appliances=[Appliance(type='hair dryer', instance=1)])\n",
       "  ElecMeter(instance=40, building=1, dataset='UK-DALE', appliances=[Appliance(type='hair straighteners', instance=1)])\n",
       "  ElecMeter(instance=41, building=1, dataset='UK-DALE', appliances=[Appliance(type='clothes iron', instance=1)])\n",
       "  ElecMeter(instance=42, building=1, dataset='UK-DALE', appliances=[Appliance(type='oven', instance=1)])\n",
       "  ElecMeter(instance=43, building=1, dataset='UK-DALE', appliances=[Appliance(type='computer', instance=1), Appliance(type='external hard disk', instance=1)])\n",
       "  ElecMeter(instance=46, building=1, dataset='UK-DALE', appliances=[Appliance(type='baby monitor', instance=1)])\n",
       "  ElecMeter(instance=47, building=1, dataset='UK-DALE', appliances=[Appliance(type='charger', instance=1)])\n",
       "  ElecMeter(instance=51, building=1, dataset='UK-DALE', appliances=[Appliance(type='desktop computer', instance=1)])\n",
       "  ElecMeter(instance=52, building=1, dataset='UK-DALE', appliances=[Appliance(type='fan', instance=1)])\n",
       "  ElecMeter(instance=53, building=1, dataset='UK-DALE', appliances=[Appliance(type='printer', instance=1)])\n",
       "  ElecMeter(instance=54, building=1, dataset='UK-DALE', site_meter, appliances=[Appliance(type='immersion heater', instance=1), Appliance(type='water pump', instance=1), Appliance(type='security alarm', instance=1), Appliance(type='fan', instance=2), Appliance(type='drill', instance=1), Appliance(type='laptop computer', instance=2)])\n",
       ")"
      ]
     },
     "execution_count": 80,
     "metadata": {},
     "output_type": "execute_result"
    }
   ],
   "source": [
    "#select using instance\n",
    "house.select_using_appliances(instance=1)"
   ]
  },
  {
   "cell_type": "code",
   "execution_count": 86,
   "id": "420a9160",
   "metadata": {},
   "outputs": [
    {
     "data": {
      "text/plain": [
       "MeterGroup(meters=\n",
       "  ElecMeter(instance=7, building=1, dataset='UK-DALE', appliances=[Appliance(type='television', instance=1)])\n",
       ")"
      ]
     },
     "execution_count": 86,
     "metadata": {},
     "output_type": "execute_result"
    }
   ],
   "source": [
    "#select using manufacturer\n",
    "house.select_using_appliances(manufacturer='Panasonic')"
   ]
  },
  {
   "cell_type": "code",
   "execution_count": 87,
   "id": "e8c74b54",
   "metadata": {},
   "outputs": [
    {
     "data": {
      "text/plain": [
       "MeterGroup(meters=\n",
       "  ElecMeter(instance=7, building=1, dataset='UK-DALE', appliances=[Appliance(type='television', instance=1)])\n",
       ")"
      ]
     },
     "execution_count": 87,
     "metadata": {},
     "output_type": "execute_result"
    }
   ],
   "source": [
    "#select using year of manufacturer\n",
    "house.select_using_appliances(year_of_manufacture=2001)"
   ]
  },
  {
   "cell_type": "code",
   "execution_count": 91,
   "id": "6cba5108",
   "metadata": {},
   "outputs": [
    {
     "data": {
      "text/plain": [
       "MeterGroup(meters=\n",
       "  ElecMeter(instance=2, building=1, dataset='UK-DALE', appliances=[Appliance(type='boiler', instance=1)])\n",
       "  ElecMeter(instance=3, building=1, dataset='UK-DALE', appliances=[Appliance(type='solar thermal pumping station', instance=1)])\n",
       "  ElecMeter(instance=4, building=1, dataset='UK-DALE', appliances=[Appliance(type='laptop computer', instance=1), Appliance(type='laptop computer', instance=3)])\n",
       "  ElecMeter(instance=5, building=1, dataset='UK-DALE', appliances=[Appliance(type='washer dryer', instance=1), Appliance(type='washer dryer', instance=2)])\n",
       "  ElecMeter(instance=6, building=1, dataset='UK-DALE', appliances=[Appliance(type='dish washer', instance=1)])\n",
       "  ElecMeter(instance=7, building=1, dataset='UK-DALE', appliances=[Appliance(type='television', instance=1)])\n",
       "  ElecMeter(instance=8, building=1, dataset='UK-DALE', appliances=[Appliance(type='light', instance=1), Appliance(type='light', instance=2)])\n",
       "  ElecMeter(instance=9, building=1, dataset='UK-DALE', appliances=[Appliance(type='HTPC', instance=1)])\n",
       "  ElecMeter(instance=10, building=1, dataset='UK-DALE', appliances=[Appliance(type='kettle', instance=1), Appliance(type='food processor', instance=1), Appliance(type='toasted sandwich maker', instance=1)])\n",
       "  ElecMeter(instance=11, building=1, dataset='UK-DALE', appliances=[Appliance(type='toaster', instance=1), Appliance(type='kitchen aid', instance=1), Appliance(type='food processor', instance=2)])\n",
       "  ElecMeter(instance=12, building=1, dataset='UK-DALE', appliances=[Appliance(type='fridge freezer', instance=1)])\n",
       "  ElecMeter(instance=13, building=1, dataset='UK-DALE', appliances=[Appliance(type='microwave', instance=1)])\n",
       "  ElecMeter(instance=14, building=1, dataset='UK-DALE', appliances=[Appliance(type='computer monitor', instance=1)])\n",
       "  ElecMeter(instance=15, building=1, dataset='UK-DALE', appliances=[Appliance(type='audio system', instance=1)])\n",
       "  ElecMeter(instance=16, building=1, dataset='UK-DALE', appliances=[Appliance(type='breadmaker', instance=1)])\n",
       "  ElecMeter(instance=17, building=1, dataset='UK-DALE', appliances=[Appliance(type='audio amplifier', instance=1)])\n",
       "  ElecMeter(instance=18, building=1, dataset='UK-DALE', appliances=[Appliance(type='broadband router', instance=1), Appliance(type='broadband router', instance=2)])\n",
       "  ElecMeter(instance=19, building=1, dataset='UK-DALE', appliances=[Appliance(type='light', instance=3), Appliance(type='bouncy castle pump', instance=1)])\n",
       "  ElecMeter(instance=20, building=1, dataset='UK-DALE', appliances=[Appliance(type='soldering iron', instance=1)])\n",
       "  ElecMeter(instance=21, building=1, dataset='UK-DALE', appliances=[Appliance(type='ethernet switch', instance=1), Appliance(type='USB hub', instance=1)])\n",
       "  ElecMeter(instance=22, building=1, dataset='UK-DALE', appliances=[Appliance(type='vacuum cleaner', instance=1)])\n",
       "  ElecMeter(instance=23, building=1, dataset='UK-DALE', appliances=[Appliance(type='light', instance=4)])\n",
       "  ElecMeter(instance=24, building=1, dataset='UK-DALE', appliances=[Appliance(type='light', instance=5)])\n",
       "  ElecMeter(instance=25, building=1, dataset='UK-DALE', appliances=[Appliance(type='light', instance=16)])\n",
       "  ElecMeter(instance=26, building=1, dataset='UK-DALE', appliances=[Appliance(type='light', instance=6)])\n",
       "  ElecMeter(instance=27, building=1, dataset='UK-DALE', appliances=[Appliance(type='tablet computer charger', instance=1)])\n",
       "  ElecMeter(instance=28, building=1, dataset='UK-DALE', appliances=[Appliance(type='active subwoofer', instance=1)])\n",
       "  ElecMeter(instance=29, building=1, dataset='UK-DALE', appliances=[Appliance(type='light', instance=7)])\n",
       "  ElecMeter(instance=30, building=1, dataset='UK-DALE', appliances=[Appliance(type='radio', instance=1)])\n",
       "  ElecMeter(instance=31, building=1, dataset='UK-DALE', appliances=[Appliance(type='light', instance=8)])\n",
       "  ElecMeter(instance=32, building=1, dataset='UK-DALE', appliances=[Appliance(type='wireless phone charger', instance=1), Appliance(type='audio system', instance=2)])\n",
       "  ElecMeter(instance=33, building=1, dataset='UK-DALE', appliances=[Appliance(type='light', instance=9)])\n",
       "  ElecMeter(instance=34, building=1, dataset='UK-DALE', appliances=[Appliance(type='mobile phone charger', instance=1)])\n",
       "  ElecMeter(instance=35, building=1, dataset='UK-DALE', appliances=[Appliance(type='light', instance=10)])\n",
       "  ElecMeter(instance=36, building=1, dataset='UK-DALE', appliances=[Appliance(type='coffee maker', instance=1)])\n",
       "  ElecMeter(instance=37, building=1, dataset='UK-DALE', appliances=[Appliance(type='radio', instance=2)])\n",
       "  ElecMeter(instance=38, building=1, dataset='UK-DALE', appliances=[Appliance(type='mobile phone charger', instance=2), Appliance(type='baby monitor', instance=2), Appliance(type='radio', instance=3)])\n",
       "  ElecMeter(instance=39, building=1, dataset='UK-DALE', appliances=[Appliance(type='hair dryer', instance=1)])\n",
       "  ElecMeter(instance=40, building=1, dataset='UK-DALE', appliances=[Appliance(type='hair straighteners', instance=1)])\n",
       "  ElecMeter(instance=41, building=1, dataset='UK-DALE', appliances=[Appliance(type='clothes iron', instance=1)])\n",
       "  ElecMeter(instance=42, building=1, dataset='UK-DALE', appliances=[Appliance(type='oven', instance=1)])\n",
       "  ElecMeter(instance=43, building=1, dataset='UK-DALE', appliances=[Appliance(type='computer', instance=1), Appliance(type='external hard disk', instance=1)])\n",
       "  ElecMeter(instance=44, building=1, dataset='UK-DALE', appliances=[Appliance(type='light', instance=11)])\n",
       "  ElecMeter(instance=45, building=1, dataset='UK-DALE', appliances=[Appliance(type='light', instance=12)])\n",
       "  ElecMeter(instance=46, building=1, dataset='UK-DALE', appliances=[Appliance(type='baby monitor', instance=1)])\n",
       "  ElecMeter(instance=47, building=1, dataset='UK-DALE', appliances=[Appliance(type='charger', instance=1)])\n",
       "  ElecMeter(instance=48, building=1, dataset='UK-DALE', appliances=[Appliance(type='light', instance=13)])\n",
       "  ElecMeter(instance=49, building=1, dataset='UK-DALE', appliances=[Appliance(type='light', instance=14)])\n",
       "  ElecMeter(instance=50, building=1, dataset='UK-DALE', appliances=[Appliance(type='light', instance=15)])\n",
       "  ElecMeter(instance=51, building=1, dataset='UK-DALE', appliances=[Appliance(type='desktop computer', instance=1)])\n",
       "  ElecMeter(instance=52, building=1, dataset='UK-DALE', appliances=[Appliance(type='fan', instance=1)])\n",
       "  ElecMeter(instance=53, building=1, dataset='UK-DALE', appliances=[Appliance(type='printer', instance=1)])\n",
       "  ElecMeter(instance=54, building=1, dataset='UK-DALE', site_meter, appliances=[Appliance(type='immersion heater', instance=1), Appliance(type='water pump', instance=1), Appliance(type='security alarm', instance=1), Appliance(type='fan', instance=2), Appliance(type='drill', instance=1), Appliance(type='laptop computer', instance=2)])\n",
       ")"
      ]
     },
     "execution_count": 91,
     "metadata": {},
     "output_type": "execute_result"
    }
   ],
   "source": [
    "#select using building\n",
    "house.select_using_appliances(building=1)\n"
   ]
  },
  {
   "cell_type": "code",
   "execution_count": 92,
   "id": "cbd5f08e",
   "metadata": {},
   "outputs": [
    {
     "data": {
      "text/plain": [
       "MeterGroup(meters=\n",
       "  ElecMeter(instance=6, building=1, dataset='UK-DALE', appliances=[Appliance(type='dish washer', instance=1)])\n",
       "  ElecMeter(instance=7, building=1, dataset='UK-DALE', appliances=[Appliance(type='television', instance=1)])\n",
       "  ElecMeter(instance=42, building=1, dataset='UK-DALE', appliances=[Appliance(type='oven', instance=1)])\n",
       ")"
      ]
     },
     "execution_count": 92,
     "metadata": {},
     "output_type": "execute_result"
    }
   ],
   "source": [
    "#select using on power threshold\n",
    "house.select_using_appliances(on_power_threshold=10)"
   ]
  },
  {
   "cell_type": "code",
   "execution_count": null,
   "id": "c4c0d779",
   "metadata": {},
   "outputs": [],
   "source": []
  }
 ],
 "metadata": {
  "kernelspec": {
   "display_name": "Python 3",
   "language": "python",
   "name": "python3"
  },
  "language_info": {
   "codemirror_mode": {
    "name": "ipython",
    "version": 3
   },
   "file_extension": ".py",
   "mimetype": "text/x-python",
   "name": "python",
   "nbconvert_exporter": "python",
   "pygments_lexer": "ipython3",
   "version": "3.6.10"
  },
  "toc": {
   "base_numbering": 1,
   "nav_menu": {},
   "number_sections": true,
   "sideBar": true,
   "skip_h1_title": false,
   "title_cell": "Table of Contents",
   "title_sidebar": "Contents",
   "toc_cell": false,
   "toc_position": {},
   "toc_section_display": true,
   "toc_window_display": false
  }
 },
 "nbformat": 4,
 "nbformat_minor": 5
}
